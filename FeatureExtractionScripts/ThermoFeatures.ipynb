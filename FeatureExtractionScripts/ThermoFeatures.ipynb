{
 "cells": [
  {
   "cell_type": "code",
   "execution_count": 1,
   "metadata": {},
   "outputs": [],
   "source": [
    "from thermo.datasheet import tabulate_constants, tabulate_gas, tabulate_liq, tabulate_solid\n",
    "import pandas as pd\n",
    "import numpy as np\n",
    "import warnings\n",
    "warnings.filterwarnings(\"ignore\")\n",
    "from tqdm import tqdm\n",
    "\n",
    "import sys\n",
    "sys.path.append('../')\n",
    "from DatasetScripts.MiscScripts.dfToDict import dfToDict\n",
    "\n",
    "# https://thermo.readthedocs.io/_modules/thermo/datasheet.html#tabulate_streams"
   ]
  },
  {
   "cell_type": "code",
   "execution_count": 2,
   "metadata": {},
   "outputs": [],
   "source": [
    "def fetchData(functions, inchi):\n",
    "    \"\"\" \n",
    "    Fetches data from a list of functions and combines them into a single dataframe.\n",
    "    \n",
    "    Parameters:\n",
    "    functions (list): List of functions to use to fetch data.\n",
    "    inchi (str): InChI string of the compound to fetch data for.\n",
    "    \n",
    "    Returns:\n",
    "    combinedDF (DataFrame): DataFrame containing data from all functions.\n",
    "    \"\"\"\n",
    "    dfList = [] # List to store dataframes from each function\n",
    "\n",
    "    for func in functions: # Iterate through each function and fetch data\n",
    "        try:\n",
    "            df = func(inchi)\n",
    "            df.reset_index(inplace=True)\n",
    "            dfList.append(df)\n",
    "        except:\n",
    "            # print(f\"Error fetching data from {func.__name__}\")\n",
    "            pass\n",
    "    \n",
    "    combinedDF = pd.concat(dfList, axis=0) # Combine all dataframes into a single dataframe\n",
    "    combinedDF.rename(columns={\"index\": \"Compound\"}, inplace=True)\n",
    "    combinedDF.insert(0, \"InChI\", inchi)\n",
    "\n",
    "    for col in combinedDF.columns: # Replace \"None\" with NaN\n",
    "        combinedDF[col].replace(\"None\", np.nan, inplace=True)\n",
    "\n",
    "        values = combinedDF[col].values.astype(str)\n",
    "        uniqueValues = np.unique(values)\n",
    "        if len(uniqueValues) == 2: # If there are only two unique values, replace the one that is not NaN with NaN\n",
    "            combinedDF[col] = combinedDF[col].ffill()\n",
    "\n",
    "    combinedDF.drop([0,0]) # Drop the first row, which is the InChI string\n",
    "    return combinedDF"
   ]
  },
  {
   "cell_type": "code",
   "execution_count": 3,
   "metadata": {},
   "outputs": [
    {
     "name": "stderr",
     "output_type": "stream",
     "text": [
      "Calculating thermo features:   9%|▉         | 1289/13640 [00:38<05:31, 37.22it/s]"
     ]
    },
    {
     "name": "stdout",
     "output_type": "stream",
     "text": [
      "[-0.8499999999999943, 101325, 0.0, 0.0, 0.0, 0.0, 'coordinates of failure']\n",
      "[-25.849999999999994, 101325, 0.0, 0.0, 0.0, 0.0, 'coordinates of failure']\n"
     ]
    },
    {
     "name": "stderr",
     "output_type": "stream",
     "text": [
      "Calculating thermo features:  10%|█         | 1389/13640 [00:42<04:37, 44.07it/s]"
     ]
    },
    {
     "name": "stdout",
     "output_type": "stream",
     "text": [
      "[-470.2919888888889, 101325, 0.0, 0.0, 0.0, 0.0, 'coordinates of failure']\n",
      "[-470.2919888888889, 101325, 0.0, 0.0, 0.0, 0.0, 'coordinates of failure']\n"
     ]
    },
    {
     "name": "stderr",
     "output_type": "stream",
     "text": [
      "Calculating thermo features:  15%|█▍        | 2041/13640 [01:07<09:14, 20.93it/s]"
     ]
    },
    {
     "name": "stdout",
     "output_type": "stream",
     "text": [
      "[-16.189999999999998, 101325, 0.0, 0.0, 0.0, 0.0, 'coordinates of failure']\n"
     ]
    },
    {
     "name": "stderr",
     "output_type": "stream",
     "text": [
      "Calculating thermo features:  61%|██████    | 8285/13640 [04:31<06:06, 14.62it/s] "
     ]
    },
    {
     "name": "stdout",
     "output_type": "stream",
     "text": [
      "[-9.700000000000003, 101325, 0.0, 0.0, 0.0, 0.0, 'coordinates of failure']\n"
     ]
    },
    {
     "name": "stderr",
     "output_type": "stream",
     "text": [
      "Calculating thermo features:  61%|██████    | 8351/13640 [04:35<06:22, 13.83it/s]"
     ]
    },
    {
     "name": "stdout",
     "output_type": "stream",
     "text": [
      "[-25.849999999999994, 101325, 0.0, 0.0, 0.0, 0.0, 'coordinates of failure']\n"
     ]
    },
    {
     "name": "stderr",
     "output_type": "stream",
     "text": [
      "Calculating thermo features:  63%|██████▎   | 8652/13640 [04:47<04:27, 18.67it/s]"
     ]
    },
    {
     "name": "stdout",
     "output_type": "stream",
     "text": [
      "[-11.924999999999997, 101325, 0.0, 0.0, 0.0, 0.0, 'coordinates of failure']\n"
     ]
    },
    {
     "name": "stderr",
     "output_type": "stream",
     "text": [
      "Calculating thermo features:  64%|██████▍   | 8763/13640 [04:55<04:20, 18.69it/s]"
     ]
    },
    {
     "name": "stdout",
     "output_type": "stream",
     "text": [
      "[-14.5, 101325, 0.0, 0.0, 0.0, 0.0, 'coordinates of failure']\n"
     ]
    },
    {
     "name": "stderr",
     "output_type": "stream",
     "text": [
      "Calculating thermo features:  68%|██████▊   | 9210/13640 [05:18<04:26, 16.64it/s]"
     ]
    },
    {
     "name": "stdout",
     "output_type": "stream",
     "text": [
      "[-12.150000000000006, 101325, 0.0, 0.0, 0.0, 0.0, 'coordinates of failure']\n"
     ]
    },
    {
     "name": "stderr",
     "output_type": "stream",
     "text": [
      "Calculating thermo features:  70%|███████   | 9585/13640 [05:41<03:56, 17.12it/s]"
     ]
    },
    {
     "name": "stdout",
     "output_type": "stream",
     "text": [
      "[-22.849999999999994, 101325, 0.0, 0.0, 0.0, 0.0, 'coordinates of failure']\n"
     ]
    },
    {
     "name": "stderr",
     "output_type": "stream",
     "text": [
      "Calculating thermo features:  99%|█████████▉| 13483/13640 [09:07<00:11, 13.94it/s]"
     ]
    },
    {
     "name": "stdout",
     "output_type": "stream",
     "text": [
      "[-7.849999999999994, 101325, 0.0, 0.0, 0.0, 0.0, 'coordinates of failure']\n"
     ]
    },
    {
     "name": "stderr",
     "output_type": "stream",
     "text": [
      "Calculating thermo features:  99%|█████████▉| 13489/13640 [09:08<00:12, 12.45it/s]"
     ]
    },
    {
     "name": "stdout",
     "output_type": "stream",
     "text": [
      "[-10.650000000000006, 101325, 0.0, 0.0, 0.0, 0.0, 'coordinates of failure']\n"
     ]
    },
    {
     "name": "stderr",
     "output_type": "stream",
     "text": [
      "Calculating thermo features:  99%|█████████▉| 13528/13640 [09:11<00:06, 16.02it/s]"
     ]
    },
    {
     "name": "stdout",
     "output_type": "stream",
     "text": [
      "[-9.25, 101325, 0.0, 0.0, 0.0, 0.0, 'coordinates of failure']\n"
     ]
    },
    {
     "name": "stderr",
     "output_type": "stream",
     "text": [
      "Calculating thermo features:  99%|█████████▉| 13570/13640 [09:14<00:05, 12.96it/s]"
     ]
    },
    {
     "name": "stdout",
     "output_type": "stream",
     "text": [
      "[-31.849999999999994, 101325, 0.0, 0.0, 0.0, 0.0, 'coordinates of failure']\n"
     ]
    },
    {
     "name": "stderr",
     "output_type": "stream",
     "text": [
      "Calculating thermo features: 100%|█████████▉| 13590/13640 [09:16<00:03, 14.55it/s]"
     ]
    },
    {
     "name": "stdout",
     "output_type": "stream",
     "text": [
      "[-33.64, 101325, 0.0, 0.0, 0.0, 0.0, 'coordinates of failure']\n"
     ]
    },
    {
     "name": "stderr",
     "output_type": "stream",
     "text": [
      "Calculating thermo features: 100%|█████████▉| 13596/13640 [09:16<00:03, 11.72it/s]"
     ]
    },
    {
     "name": "stdout",
     "output_type": "stream",
     "text": [
      "[-85.99, 101325, 0.0, 0.0, 0.0, 0.0, 'coordinates of failure']\n",
      "[-86.01, 101325, 0.0, 0.0, 0.0, 0.0, 'coordinates of failure']\n",
      "[-81.27, 101325, 0.0, 0.0, 0.0, 0.0, 'coordinates of failure']\n"
     ]
    },
    {
     "name": "stderr",
     "output_type": "stream",
     "text": [
      "Calculating thermo features: 100%|█████████▉| 13614/13640 [09:18<00:02, 12.31it/s]"
     ]
    },
    {
     "name": "stdout",
     "output_type": "stream",
     "text": [
      "[-99.05, 101325, 0.0, 0.0, 0.0, 0.0, 'coordinates of failure']\n"
     ]
    },
    {
     "name": "stderr",
     "output_type": "stream",
     "text": [
      "Calculating thermo features: 100%|█████████▉| 13624/13640 [09:19<00:01, 11.63it/s]"
     ]
    },
    {
     "name": "stdout",
     "output_type": "stream",
     "text": [
      "[-36.85, 101325, 0.0, 0.0, 0.0, 0.0, 'coordinates of failure']\n"
     ]
    },
    {
     "name": "stderr",
     "output_type": "stream",
     "text": [
      "Calculating thermo features: 100%|█████████▉| 13630/13640 [09:19<00:00, 14.19it/s]"
     ]
    },
    {
     "name": "stdout",
     "output_type": "stream",
     "text": [
      "[-75.44, 101325, 0.0, 0.0, 0.0, 0.0, 'coordinates of failure']\n",
      "[-45.64, 101325, 0.0, 0.0, 0.0, 0.0, 'coordinates of failure']\n"
     ]
    },
    {
     "name": "stderr",
     "output_type": "stream",
     "text": [
      "Calculating thermo features: 100%|██████████| 13640/13640 [09:20<00:00, 24.34it/s]\n"
     ]
    },
    {
     "name": "stdout",
     "output_type": "stream",
     "text": [
      "5402\n"
     ]
    }
   ],
   "source": [
    "data = pd.read_csv(\"../Data/Combined/0.4.0-CleanedMaster.csv\") # Load data\n",
    "inchiList = data[\"InChI\"].values\n",
    "inchiList = np.unique(inchiList)\n",
    "vers = \"0.4.0\"\n",
    "errors = 0\n",
    "try: # Check if features have already been calculated\n",
    "    features = pd.read_csv(f\"../Data/Combined/LargeFiles/ExtractedDescriptors/{vers}-hT_ThermoDesc.csv\")\n",
    "    print(\"Existing features found and loaded.\")\n",
    "except FileNotFoundError:  # If features have not been calculated, calculate them\n",
    "    functions = [tabulate_constants, tabulate_gas, tabulate_liq, tabulate_solid] # List of functions to use to fetch data\n",
    "    features = pd.DataFrame() # Dataframe to store features\n",
    "\n",
    "    for inchi in tqdm(inchiList, desc=\"Calculating thermo features\"): # Iterate through each InChI string and fetch data\n",
    "        try:\n",
    "            fetched = fetchData(functions, inchi) # Fetch data\n",
    "            features = pd.concat([features, fetched], axis=0)\n",
    "        except:\n",
    "            errors += 1\n",
    "\n",
    "    features[\"T, K\"] = features[\"T, K\"].astype(float) - 273.15 # Convert temperature from K to C\n",
    "    features.rename(columns={\"T, K\": \"Temperature\", # Rename columns to match the rest of the data\n",
    "                             \"MW, g/mol\" : \"MolWt\"}, inplace=True)\n",
    "\n",
    "    features.reset_index(inplace=True, drop=True)\n",
    "    features.to_csv(f\"../Data/Combined/LargeFiles/ExtractedDescriptors/{vers}-ThermoDesc.csv\", index=False)\n",
    "print(errors)"
   ]
  }
 ],
 "metadata": {
  "kernelspec": {
   "display_name": "Python 3",
   "language": "python",
   "name": "python3"
  },
  "language_info": {
   "codemirror_mode": {
    "name": "ipython",
    "version": 3
   },
   "file_extension": ".py",
   "mimetype": "text/x-python",
   "name": "python",
   "nbconvert_exporter": "python",
   "pygments_lexer": "ipython3",
   "version": "3.12.2"
  }
 },
 "nbformat": 4,
 "nbformat_minor": 2
}
