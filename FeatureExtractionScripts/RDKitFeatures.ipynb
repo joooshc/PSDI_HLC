{
 "cells": [
  {
   "cell_type": "markdown",
   "metadata": {},
   "source": [
    "# Program to get RDKit features and add them to the main dataset\n",
    "\n",
    "Version: 0.0.0\n",
    "\n",
    "## Importing libraries"
   ]
  },
  {
   "cell_type": "code",
   "execution_count": 1,
   "metadata": {},
   "outputs": [],
   "source": [
    "import pandas as pd\n",
    "import numpy as np\n",
    "from rdkit import Chem\n",
    "from rdkit.Chem import Descriptors\n",
    "from tqdm import tqdm\n",
    "import json\n",
    "from rdkit import RDLogger\n",
    "RDLogger.DisableLog('rdApp.*') "
   ]
  },
  {
   "cell_type": "markdown",
   "metadata": {},
   "source": [
    "## Initialising function to get features"
   ]
  },
  {
   "cell_type": "code",
   "execution_count": 2,
   "metadata": {},
   "outputs": [],
   "source": [
    "def rdkitDescriptorsDict(inchi):\n",
    "    \"\"\" \n",
    "    Function to fetch values for every available RDKit descriptor for a given InChI string.\n",
    "    \n",
    "    Input:\n",
    "    inchi (str): InChI string for a molecule\n",
    "    \n",
    "    Output:\n",
    "    descDict (dict): Dictionary with descriptor names as keys and descriptor values as values\"\"\"\n",
    "\n",
    "    descDict = {}\n",
    "    mol = Chem.MolFromInchi(inchi, sanitize=False, removeHs=False) #Converting InChI to mol object\n",
    "    try:\n",
    "        if mol is None: #If mol object could not be generated\n",
    "            print(f\"Could not generate mol object from InChI: {inchi}\")\n",
    "            raise ValueError(\"Could not generate mol object from InChI\")\n",
    "        \n",
    "        for descName, descFn in Descriptors.descList: #Iterating over all available descriptors\n",
    "            descDict[descName] = descFn(mol)\n",
    "\n",
    "    except (ValueError, AttributeError) as e: #If any error occurs, insert nan\n",
    "        for descName, descFn in Descriptors.descList:\n",
    "            descDict[descName] = np.nan\n",
    "\n",
    "    return descDict"
   ]
  },
  {
   "cell_type": "code",
   "execution_count": 3,
   "metadata": {},
   "outputs": [
    {
     "name": "stdout",
     "output_type": "stream",
     "text": [
      "(21291, 9)\n",
      "Fetching descriptors.\n"
     ]
    },
    {
     "name": "stderr",
     "output_type": "stream",
     "text": [
      "100%|██████████| 18006/18006 [01:47<00:00, 167.61it/s]\n"
     ]
    },
    {
     "name": "stdout",
     "output_type": "stream",
     "text": [
      "Total errors: 1\n",
      "Total errors: 2\n",
      "Total errors: 3\n",
      "3\n",
      "(18006, 211)\n"
     ]
    }
   ],
   "source": [
    "vers = \"0.5.0\"\n",
    "\n",
    "df = pd.read_csv(\"../Data/Combined/0.5.0-CleanedMaster.csv\")\n",
    "df.dropna(subset=\"InChI\", inplace=True)\n",
    "print(df.shape)\n",
    "\n",
    "inchiList = np.unique(df[\"InChI\"].tolist())\n",
    "\n",
    "try: \n",
    "    descDF = pd.read_csv(f\"../Data/Combined/LargeFiles/ExtractedDescriptors/{vers}-RDKitDescriptors.csv\")\n",
    "    print(\"Descriptors found!\")\n",
    "except:\n",
    "    print(\"Fetching descriptors.\")\n",
    "    compoundDict = {}; errors = [] #Initalising \n",
    "    for inchi in tqdm(inchiList): #Iterating over all InChI strings\n",
    "        try:\n",
    "            compoundDict[inchi] = rdkitDescriptorsDict(inchi) #Fetching descriptor values\n",
    "        except:\n",
    "            compoundDict[inchi] = np.nan\n",
    "            errors.append(inchi)\n",
    "            print(f\"Total errors: {len(errors)}\")\n",
    "\n",
    "    print(len(errors))\n",
    "    # for i in range(len(errors)): #Removing InChI strings that could not be converted to mol object\n",
    "    #     del compoundDict[errors[i]]\n",
    "\n",
    "    descDF = pd.DataFrame(compoundDict).T #Saving as csv\n",
    "    descDF.reset_index(inplace=True)\n",
    "    descDF.rename(columns={\"index\": \"InChI\"}, inplace=True)\n",
    "    descDF.to_csv(f\"../Data/Combined/LargeFiles/ExtractedDescriptors/{vers}-RDKitDescriptors.csv\", index=False)\n",
    "    print(descDF.shape)"
   ]
  },
  {
   "cell_type": "code",
   "execution_count": 4,
   "metadata": {},
   "outputs": [
    {
     "name": "stdout",
     "output_type": "stream",
     "text": [
      "(21291, 9)\n"
     ]
    },
    {
     "name": "stderr",
     "output_type": "stream",
     "text": [
      "100%|██████████| 21291/21291 [02:42<00:00, 131.16it/s]\n"
     ]
    }
   ],
   "source": [
    "print(df.shape)\n",
    "dfInChI = df[\"InChI\"].tolist()\n",
    "rowList = []\n",
    "\n",
    "for inchi in tqdm(dfInChI):\n",
    "    try:\n",
    "        rowList.append(descDF.loc[descDF[\"InChI\"] == inchi].to_dict(orient=\"records\")[0])\n",
    "    except:\n",
    "        rowList.append(np.nan)\n",
    "\n",
    "output = pd.DataFrame.from_dict(rowList)\n",
    "del output[\"InChI\"] #remove duplicate col\n",
    "output = pd.concat([df, output], axis=1)\n",
    "\n",
    "output.to_csv(f\"../Data/Combined/{vers}-Master+RDKit.csv\", index=False)"
   ]
  }
 ],
 "metadata": {
  "kernelspec": {
   "display_name": ".venv",
   "language": "python",
   "name": "python3"
  },
  "language_info": {
   "codemirror_mode": {
    "name": "ipython",
    "version": 3
   },
   "file_extension": ".py",
   "mimetype": "text/x-python",
   "name": "python",
   "nbconvert_exporter": "python",
   "pygments_lexer": "ipython3",
   "version": "3.12.2"
  }
 },
 "nbformat": 4,
 "nbformat_minor": 2
}
