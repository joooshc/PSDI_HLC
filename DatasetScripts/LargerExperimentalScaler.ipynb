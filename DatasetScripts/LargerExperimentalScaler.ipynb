{
 "cells": [
  {
   "cell_type": "markdown",
   "metadata": {},
   "source": [
    "similar to ExperimentalScaler but with larger datasets"
   ]
  },
  {
   "cell_type": "code",
   "execution_count": 9,
   "metadata": {},
   "outputs": [],
   "source": [
    "import pandas as pd\n",
    "import numpy as np\n",
    "from sklearn.preprocessing import PowerTransformer, RobustScaler, normalize, MinMaxScaler\n",
    "from MiscScripts import DataCleaning as dc"
   ]
  },
  {
   "cell_type": "code",
   "execution_count": 10,
   "metadata": {},
   "outputs": [],
   "source": [
    "def logTarget(targVals): #Special log transformation for target variable due to negative values\n",
    "    targVals = targVals + abs(np.min(targVals)) + 1\n",
    "\n",
    "    log = np.log1p(targVals)\n",
    "    log = pd.Series(log)\n",
    "    log = log.replace([np.inf, -np.inf], np.nan)\n",
    "    \n",
    "    return log"
   ]
  },
  {
   "cell_type": "code",
   "execution_count": 11,
   "metadata": {},
   "outputs": [
    {
     "name": "stderr",
     "output_type": "stream",
     "text": [
      "C:\\Users\\josh_\\AppData\\Local\\Temp\\ipykernel_9112\\3929329735.py:3: DtypeWarning: Columns (4,5) have mixed types. Specify dtype option on import or set low_memory=False.\n",
      "  df = pd.read_csv(\"../Data/Datasets/0.6.1-MeltingPoint_C.csv\")\n"
     ]
    },
    {
     "name": "stdout",
     "output_type": "stream",
     "text": [
      "Shape of data: (250072, 167)\n",
      "Fraction of data to be used: 0.04\n",
      "Shape of data: (10003, 167)\n"
     ]
    }
   ],
   "source": [
    "vers = \"0.2.1\"\n",
    "\n",
    "df = pd.read_csv(\"../Data/Datasets/0.6.1-MeltingPoint_C.csv\")\n",
    "df = df.dropna(subset = [\"MeltingPoint_C\"])\n",
    "df.drop_duplicates(subset = \"InChI\", inplace = True)\n",
    "df = df.drop_duplicates()\n",
    "print(f\"Shape of data: {df.shape}\")\n",
    "\n",
    "shape = df.shape[0]\n",
    "frac = np.around(10000/shape, decimals = 3)\n",
    "print(f\"Fraction of data to be used: {frac}\")\n",
    "target = \"MeltingPoint_C\"\n",
    "df = df.sample(frac = frac)\n",
    "print(f\"Shape of data: {df.shape}\")"
   ]
  },
  {
   "cell_type": "code",
   "execution_count": 12,
   "metadata": {},
   "outputs": [
    {
     "name": "stdout",
     "output_type": "stream",
     "text": [
      "Shape of data: (10003, 167)\n"
     ]
    }
   ],
   "source": [
    "targVals = df[target].values.astype(float).tolist()\n",
    "df.pop(target)\n",
    "# scaledTargs = logTarget(targVals)\n",
    "scaledTargs = MinMaxScaler().fit_transform(np.array(targVals).reshape(-1, 1))\n",
    "df.insert(0, target, scaledTargs)\n",
    "# df.insert(0, target, targVals)\n",
    "df.dropna(subset = [target], inplace = True)\n",
    "print(f\"Shape of data: {df.shape}\")"
   ]
  },
  {
   "cell_type": "code",
   "execution_count": 13,
   "metadata": {},
   "outputs": [
    {
     "data": {
      "text/html": [
       "<div>\n",
       "<style scoped>\n",
       "    .dataframe tbody tr th:only-of-type {\n",
       "        vertical-align: middle;\n",
       "    }\n",
       "\n",
       "    .dataframe tbody tr th {\n",
       "        vertical-align: top;\n",
       "    }\n",
       "\n",
       "    .dataframe thead th {\n",
       "        text-align: right;\n",
       "    }\n",
       "</style>\n",
       "<table border=\"1\" class=\"dataframe\">\n",
       "  <thead>\n",
       "    <tr style=\"text-align: right;\">\n",
       "      <th></th>\n",
       "      <th>Compound</th>\n",
       "      <th>MaxAbsEStateIndex</th>\n",
       "      <th>MaxEStateIndex</th>\n",
       "    </tr>\n",
       "  </thead>\n",
       "  <tbody>\n",
       "    <tr>\n",
       "      <th>224295</th>\n",
       "      <td>NaN</td>\n",
       "      <td>13.280833</td>\n",
       "      <td>13.280833</td>\n",
       "    </tr>\n",
       "    <tr>\n",
       "      <th>28043</th>\n",
       "      <td>NaN</td>\n",
       "      <td>4.432370</td>\n",
       "      <td>4.432370</td>\n",
       "    </tr>\n",
       "    <tr>\n",
       "      <th>175658</th>\n",
       "      <td>NaN</td>\n",
       "      <td>13.071016</td>\n",
       "      <td>13.071016</td>\n",
       "    </tr>\n",
       "    <tr>\n",
       "      <th>198272</th>\n",
       "      <td>NaN</td>\n",
       "      <td>6.360950</td>\n",
       "      <td>6.360950</td>\n",
       "    </tr>\n",
       "    <tr>\n",
       "      <th>199844</th>\n",
       "      <td>NaN</td>\n",
       "      <td>12.727835</td>\n",
       "      <td>12.727835</td>\n",
       "    </tr>\n",
       "    <tr>\n",
       "      <th>...</th>\n",
       "      <td>...</td>\n",
       "      <td>...</td>\n",
       "      <td>...</td>\n",
       "    </tr>\n",
       "    <tr>\n",
       "      <th>146640</th>\n",
       "      <td>NaN</td>\n",
       "      <td>12.616607</td>\n",
       "      <td>12.616607</td>\n",
       "    </tr>\n",
       "    <tr>\n",
       "      <th>208160</th>\n",
       "      <td>NaN</td>\n",
       "      <td>12.278250</td>\n",
       "      <td>12.278250</td>\n",
       "    </tr>\n",
       "    <tr>\n",
       "      <th>142729</th>\n",
       "      <td>NaN</td>\n",
       "      <td>12.225943</td>\n",
       "      <td>12.225943</td>\n",
       "    </tr>\n",
       "    <tr>\n",
       "      <th>177001</th>\n",
       "      <td>NaN</td>\n",
       "      <td>10.736385</td>\n",
       "      <td>10.736385</td>\n",
       "    </tr>\n",
       "    <tr>\n",
       "      <th>196325</th>\n",
       "      <td>NaN</td>\n",
       "      <td>13.640893</td>\n",
       "      <td>13.640893</td>\n",
       "    </tr>\n",
       "  </tbody>\n",
       "</table>\n",
       "<p>10003 rows × 3 columns</p>\n",
       "</div>"
      ],
      "text/plain": [
       "       Compound  MaxAbsEStateIndex  MaxEStateIndex\n",
       "224295      NaN          13.280833       13.280833\n",
       "28043       NaN           4.432370        4.432370\n",
       "175658      NaN          13.071016       13.071016\n",
       "198272      NaN           6.360950        6.360950\n",
       "199844      NaN          12.727835       12.727835\n",
       "...         ...                ...             ...\n",
       "146640      NaN          12.616607       12.616607\n",
       "208160      NaN          12.278250       12.278250\n",
       "142729      NaN          12.225943       12.225943\n",
       "177001      NaN          10.736385       10.736385\n",
       "196325      NaN          13.640893       13.640893\n",
       "\n",
       "[10003 rows x 3 columns]"
      ]
     },
     "execution_count": 13,
     "metadata": {},
     "output_type": "execute_result"
    }
   ],
   "source": [
    "df.iloc[:, 7:10] #Select from 8 onwards"
   ]
  },
  {
   "cell_type": "code",
   "execution_count": 14,
   "metadata": {},
   "outputs": [],
   "source": [
    "def MMPT(data, tol):\n",
    "    print(\"Initial shape: \", data.shape)\n",
    "    data = MinMaxScaler().fit_transform(data)\n",
    "    data, d = dc.dropLowDistinction(pd.DataFrame(data), tol)\n",
    "    data = PowerTransformer().fit_transform(data)\n",
    "    data = pd.DataFrame(data)\n",
    "    return data\n",
    "\n",
    "def MMLog(data, tol):\n",
    "    print(\"Initial shape: \", data.shape)\n",
    "    data = MinMaxScaler().fit_transform(data)\n",
    "    data, d = dc.dropLowDistinction(pd.DataFrame(data), tol)\n",
    "    data = pd.DataFrame(np.log1p(data))\n",
    "    return data"
   ]
  },
  {
   "cell_type": "code",
   "execution_count": 15,
   "metadata": {},
   "outputs": [
    {
     "name": "stdout",
     "output_type": "stream",
     "text": [
      "\n",
      " Variable: MeltingPoint_C\n",
      " (10003, 167)\n",
      "After dropping NaNs: (10003, 167)\n",
      "After dropping outliers: (9968, 167)\n",
      "After dropping NaNs again: (9968, 167)\n",
      "Initial shape:  (9968, 159)\n",
      "Shape of data: (9968, 80)\n"
     ]
    }
   ],
   "source": [
    "df = dc.prepForScaling(df, target, [])\n",
    "df.reset_index(drop = True, inplace = True) #Reset index after sampling or it won't work\n",
    "\n",
    "scaled = MMPT(df.iloc[:, 8:], 0.01)\n",
    "df_mmpt = pd.concat([df.iloc[:, :8], scaled], axis = 1)\n",
    "print(f\"Shape of data: {df_mmpt.shape}\")\n",
    "df_mmpt.to_csv(f\"../Data/Datasets/BPMP_Scaling/{vers}_MinMaxMM_PowerTransformer().csv\", index = False)"
   ]
  },
  {
   "cell_type": "code",
   "execution_count": 16,
   "metadata": {},
   "outputs": [
    {
     "name": "stdout",
     "output_type": "stream",
     "text": [
      "Initial shape:  (9968, 159)\n",
      "Shape of data: (9968, 80)\n"
     ]
    }
   ],
   "source": [
    "scaled = MMLog(df.iloc[:, 8:], 0.01)\n",
    "df_mmlog = pd.concat([df.iloc[:, :8], scaled], axis = 1)\n",
    "print(f\"Shape of data: {df_mmlog.shape}\")\n",
    "df_mmlog.to_csv(f\"../Data/Datasets/BPMP_Scaling/{vers}_MinMaxMM_Log1p().csv\", index = False)"
   ]
  }
 ],
 "metadata": {
  "kernelspec": {
   "display_name": ".venv",
   "language": "python",
   "name": "python3"
  },
  "language_info": {
   "codemirror_mode": {
    "name": "ipython",
    "version": 3
   },
   "file_extension": ".py",
   "mimetype": "text/x-python",
   "name": "python",
   "nbconvert_exporter": "python",
   "pygments_lexer": "ipython3",
   "version": "3.12.2"
  }
 },
 "nbformat": 4,
 "nbformat_minor": 2
}
