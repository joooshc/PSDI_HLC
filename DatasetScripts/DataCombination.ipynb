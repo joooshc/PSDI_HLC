{
 "cells": [
  {
   "cell_type": "markdown",
   "metadata": {},
   "source": [
    "# Program to take all processed datasets and combine them\n",
    "\n",
    "Version: 0.1.0\n",
    "\n",
    "0.1.0: Remove CMC data, add data source col\n",
    "\n",
    "## Importing Libraries"
   ]
  },
  {
   "cell_type": "code",
   "execution_count": 10,
   "metadata": {},
   "outputs": [],
   "source": [
    "import pandas as pd\n",
    "import numpy as np\n",
    "from tqdm import tqdm\n",
    "import warnings\n",
    "import sys\n",
    "sys.path.append('../')\n",
    "from MiscScripts.isomerCount import isomerCountMain\n",
    "warnings.filterwarnings(\"ignore\")"
   ]
  },
  {
   "cell_type": "markdown",
   "metadata": {},
   "source": [
    "## Melting/Boiling/Decomposition Point Data"
   ]
  },
  {
   "cell_type": "code",
   "execution_count": 11,
   "metadata": {},
   "outputs": [],
   "source": [
    "williams = pd.read_csv(\"../Data/Processed/0.0.0-Williams.csv\") #Importing the data\n",
    "williams = williams[[\"Compound\", \"SMILES\", \"InChI\", \"AverageValue\"]] #Selecting columns\n",
    "williams = williams.rename(columns={\"AverageValue\": \"MeltingPoint/C\"}) #Renaming columns\n",
    "\n",
    "williams[\"MeltingPoint-dataSource\"] = \"A. Williams et al, 2015\""
   ]
  },
  {
   "cell_type": "code",
   "execution_count": 12,
   "metadata": {},
   "outputs": [],
   "source": [
    "wiki = pd.read_csv(\"../Data/Processed/0.0.0-WikiBP.csv\") #Importing the data\n",
    "wiki = wiki[[\"Compound\", \"canonical_smiles\", \"InChI\", \"bp\", \"mp\"]] #Selecting columns\n",
    "wiki = wiki.rename(columns={\"mp\": \"MeltingPoint/C\", \"bp\": \"BoilingPoint/C\", \"canonical_smiles\": \"SMILES\"}) #Renaming columns\n",
    "\n",
    "wiki[\"Melting/BoilingPoint-dataSource\"] = \"WikiData, 2024\""
   ]
  },
  {
   "cell_type": "code",
   "execution_count": 13,
   "metadata": {},
   "outputs": [],
   "source": [
    "pyrolysis = pd.read_csv(\"../Data/Processed/0.0.0-pyrolysis.csv\") #Importing the data\n",
    "pyrolysisMP = pyrolysis[pyrolysis[\"QuantityType\"] == \"MeltingPoint\"] #Selecting melting point only\n",
    "pyrolysisMP = pyrolysisMP[[\"Compound\", \"SMILES\", \"InChI\", \"AverageValue\"]] #Selecting columns\n",
    "pyrolysisMP = pyrolysisMP.rename(columns={\"AverageValue\": \"MeltingPoint/C\"}) #Renaming columns\n",
    "\n",
    "pyrolysisMP[\"MeltingPoint-dataSource\"] = \"A. Williams et al, 2015\""
   ]
  },
  {
   "cell_type": "code",
   "execution_count": 14,
   "metadata": {},
   "outputs": [],
   "source": [
    "bioquest = pd.read_csv(\"../Data/Processed/0.3.1-bioquest.csv\") #Importing the data\n",
    "bioquest = bioquest[[\"Compound\", \"SMILES\", \"InChI\", \"MeltingPoint/C\", \"BoilingPoint/C\"]] #Selecting columns\n",
    "\n",
    "bioquest[\"Melting/BoilingPoint-dataSource\"] = \"BioQuest, 2024\""
   ]
  },
  {
   "cell_type": "markdown",
   "metadata": {},
   "source": [
    "## Solubility"
   ]
  },
  {
   "cell_type": "code",
   "execution_count": 15,
   "metadata": {},
   "outputs": [
    {
     "name": "stdout",
     "output_type": "stream",
     "text": [
      "Index(['Compound', 'SMILES', 'Temperature', 'InChI', 'logS'], dtype='object')\n"
     ]
    }
   ],
   "source": [
    "solubility = pd.read_csv(\"../Data/Processed/0.2.0-solubility.csv\") #Importing the data\n",
    "print(solubility.columns)\n",
    "solubility = solubility[[\"Compound\", \"SMILES\", \"InChI\", \"logS\", \"Temperature\"]] #Selecting columns\n",
    "\n",
    "solubility[\"logS-dataSource\"] = \"AqSolDB, IUPAC SDS, DDB, 2023\""
   ]
  },
  {
   "cell_type": "code",
   "execution_count": 16,
   "metadata": {},
   "outputs": [],
   "source": [
    "lowe = pd.read_csv(\"../Data/Processed/0.0.0-LoweSol.csv\") #Importing the data\n",
    "\n",
    "lowe = lowe[[\"Compound\", \"SMILES\", \"InChI\", \"logS\", \"Temperature\"]] #Selecting columns\n",
    "\n",
    "lowe[\"logS-dataSource\"] = \"Lowe et al, 2023\""
   ]
  },
  {
   "cell_type": "markdown",
   "metadata": {},
   "source": [
    "## Henry's Law"
   ]
  },
  {
   "cell_type": "code",
   "execution_count": 17,
   "metadata": {},
   "outputs": [
    {
     "name": "stdout",
     "output_type": "stream",
     "text": [
      "Index(['Compound', 'CAS', 'Constants', 'Temperature', 'SMILES', 'InChI'], dtype='object')\n"
     ]
    }
   ],
   "source": [
    "hl = pd.read_csv(\"../Data/Processed/2.5.0-HenrysLaw.csv\") #Importing the data\n",
    "print(hl.columns)\n",
    "hl = hl[[\"Compound\", \"SMILES\", \"Temperature\", \"InChI\", \"Constants\"]] #Selecting columns\n",
    "hl = hl.rename(columns={\"Constants\": \"HenryConstant\"}) #Renaming columns\n",
    "\n",
    "hl[\"HenryConstant-dataSource\"] = \"https://doi.org/10.5194/acp-23-10901-2023\""
   ]
  },
  {
   "cell_type": "code",
   "execution_count": 20,
   "metadata": {},
   "outputs": [
    {
     "name": "stdout",
     "output_type": "stream",
     "text": [
      "259967\n"
     ]
    },
    {
     "name": "stderr",
     "output_type": "stream",
     "text": [
      "  1%|          | 2124/259967 [01:29<3:01:34, 23.67it/s]\n"
     ]
    },
    {
     "ename": "KeyboardInterrupt",
     "evalue": "",
     "output_type": "error",
     "traceback": [
      "\u001b[1;31m---------------------------------------------------------------------------\u001b[0m",
      "\u001b[1;31mKeyboardInterrupt\u001b[0m                         Traceback (most recent call last)",
      "\u001b[1;32m~\\AppData\\Local\\Temp\\ipykernel_23772\\1698259067.py\u001b[0m in \u001b[0;36m?\u001b[1;34m()\u001b[0m\n\u001b[0;32m      3\u001b[0m \u001b[0mprint\u001b[0m\u001b[1;33m(\u001b[0m\u001b[0mlen\u001b[0m\u001b[1;33m(\u001b[0m\u001b[0minchiList\u001b[0m\u001b[1;33m)\u001b[0m\u001b[1;33m)\u001b[0m \u001b[1;31m#Number of unique inchi values\u001b[0m\u001b[1;33m\u001b[0m\u001b[1;33m\u001b[0m\u001b[0m\n\u001b[0;32m      4\u001b[0m \u001b[1;33m\u001b[0m\u001b[0m\n\u001b[0;32m      5\u001b[0m \u001b[0mmaster\u001b[0m \u001b[1;33m=\u001b[0m \u001b[0mpd\u001b[0m\u001b[1;33m.\u001b[0m\u001b[0mDataFrame\u001b[0m\u001b[1;33m(\u001b[0m\u001b[1;33m)\u001b[0m \u001b[1;31m#Creating an empty dataframe\u001b[0m\u001b[1;33m\u001b[0m\u001b[1;33m\u001b[0m\u001b[0m\n\u001b[0;32m      6\u001b[0m \u001b[1;32mfor\u001b[0m \u001b[0minchi\u001b[0m \u001b[1;32min\u001b[0m \u001b[0mtqdm\u001b[0m\u001b[1;33m(\u001b[0m\u001b[0minchiList\u001b[0m\u001b[1;33m)\u001b[0m\u001b[1;33m:\u001b[0m \u001b[1;31m#Iterating over all inchi values, selecting subset with InChI and concatenating to main dataframe\u001b[0m\u001b[1;33m\u001b[0m\u001b[1;33m\u001b[0m\u001b[0m\n\u001b[1;32m----> 7\u001b[1;33m     \u001b[0msubWilliams\u001b[0m \u001b[1;33m=\u001b[0m \u001b[0mwilliams\u001b[0m\u001b[1;33m[\u001b[0m\u001b[0mwilliams\u001b[0m\u001b[1;33m[\u001b[0m\u001b[1;34m\"InChI\"\u001b[0m\u001b[1;33m]\u001b[0m \u001b[1;33m==\u001b[0m \u001b[0minchi\u001b[0m\u001b[1;33m]\u001b[0m\u001b[1;33m\u001b[0m\u001b[1;33m\u001b[0m\u001b[0m\n\u001b[0m\u001b[0;32m      8\u001b[0m     \u001b[0msubWiki\u001b[0m \u001b[1;33m=\u001b[0m \u001b[0mwiki\u001b[0m\u001b[1;33m[\u001b[0m\u001b[0mwiki\u001b[0m\u001b[1;33m[\u001b[0m\u001b[1;34m\"InChI\"\u001b[0m\u001b[1;33m]\u001b[0m \u001b[1;33m==\u001b[0m \u001b[0minchi\u001b[0m\u001b[1;33m]\u001b[0m\u001b[1;33m\u001b[0m\u001b[1;33m\u001b[0m\u001b[0m\n\u001b[0;32m      9\u001b[0m     \u001b[0msubPyrolysisMP\u001b[0m \u001b[1;33m=\u001b[0m \u001b[0mpyrolysisMP\u001b[0m\u001b[1;33m[\u001b[0m\u001b[0mpyrolysisMP\u001b[0m\u001b[1;33m[\u001b[0m\u001b[1;34m\"InChI\"\u001b[0m\u001b[1;33m]\u001b[0m \u001b[1;33m==\u001b[0m \u001b[0minchi\u001b[0m\u001b[1;33m]\u001b[0m\u001b[1;33m\u001b[0m\u001b[1;33m\u001b[0m\u001b[0m\n\u001b[0;32m     10\u001b[0m     \u001b[0msubBioquest\u001b[0m \u001b[1;33m=\u001b[0m \u001b[0mbioquest\u001b[0m\u001b[1;33m[\u001b[0m\u001b[0mbioquest\u001b[0m\u001b[1;33m[\u001b[0m\u001b[1;34m\"InChI\"\u001b[0m\u001b[1;33m]\u001b[0m \u001b[1;33m==\u001b[0m \u001b[0minchi\u001b[0m\u001b[1;33m]\u001b[0m\u001b[1;33m\u001b[0m\u001b[1;33m\u001b[0m\u001b[0m\n",
      "\u001b[1;32mc:\\Users\\josh_\\Documents\\GitHub\\HenrysLaw\\.venv\\Lib\\site-packages\\pandas\\core\\frame.py\u001b[0m in \u001b[0;36m?\u001b[1;34m(self, key)\u001b[0m\n\u001b[0;32m   4089\u001b[0m             \u001b[1;32mreturn\u001b[0m \u001b[0mself\u001b[0m\u001b[1;33m.\u001b[0m\u001b[0mwhere\u001b[0m\u001b[1;33m(\u001b[0m\u001b[0mkey\u001b[0m\u001b[1;33m)\u001b[0m\u001b[1;33m\u001b[0m\u001b[1;33m\u001b[0m\u001b[0m\n\u001b[0;32m   4090\u001b[0m \u001b[1;33m\u001b[0m\u001b[0m\n\u001b[0;32m   4091\u001b[0m         \u001b[1;31m# Do we have a (boolean) 1d indexer?\u001b[0m\u001b[1;33m\u001b[0m\u001b[1;33m\u001b[0m\u001b[0m\n\u001b[0;32m   4092\u001b[0m         \u001b[1;32mif\u001b[0m \u001b[0mcom\u001b[0m\u001b[1;33m.\u001b[0m\u001b[0mis_bool_indexer\u001b[0m\u001b[1;33m(\u001b[0m\u001b[0mkey\u001b[0m\u001b[1;33m)\u001b[0m\u001b[1;33m:\u001b[0m\u001b[1;33m\u001b[0m\u001b[1;33m\u001b[0m\u001b[0m\n\u001b[1;32m-> 4093\u001b[1;33m             \u001b[1;32mreturn\u001b[0m \u001b[0mself\u001b[0m\u001b[1;33m.\u001b[0m\u001b[0m_getitem_bool_array\u001b[0m\u001b[1;33m(\u001b[0m\u001b[0mkey\u001b[0m\u001b[1;33m)\u001b[0m\u001b[1;33m\u001b[0m\u001b[1;33m\u001b[0m\u001b[0m\n\u001b[0m\u001b[0;32m   4094\u001b[0m \u001b[1;33m\u001b[0m\u001b[0m\n\u001b[0;32m   4095\u001b[0m         \u001b[1;31m# We are left with two options: a single key, and a collection of keys,\u001b[0m\u001b[1;33m\u001b[0m\u001b[1;33m\u001b[0m\u001b[0m\n\u001b[0;32m   4096\u001b[0m         \u001b[1;31m# We interpret tuples as collections only for non-MultiIndex\u001b[0m\u001b[1;33m\u001b[0m\u001b[1;33m\u001b[0m\u001b[0m\n",
      "\u001b[1;32mc:\\Users\\josh_\\Documents\\GitHub\\HenrysLaw\\.venv\\Lib\\site-packages\\pandas\\core\\frame.py\u001b[0m in \u001b[0;36m?\u001b[1;34m(self, key)\u001b[0m\n\u001b[0;32m   4150\u001b[0m \u001b[1;33m\u001b[0m\u001b[0m\n\u001b[0;32m   4151\u001b[0m         \u001b[1;32mif\u001b[0m \u001b[0mkey\u001b[0m\u001b[1;33m.\u001b[0m\u001b[0mall\u001b[0m\u001b[1;33m(\u001b[0m\u001b[1;33m)\u001b[0m\u001b[1;33m:\u001b[0m\u001b[1;33m\u001b[0m\u001b[1;33m\u001b[0m\u001b[0m\n\u001b[0;32m   4152\u001b[0m             \u001b[1;32mreturn\u001b[0m \u001b[0mself\u001b[0m\u001b[1;33m.\u001b[0m\u001b[0mcopy\u001b[0m\u001b[1;33m(\u001b[0m\u001b[0mdeep\u001b[0m\u001b[1;33m=\u001b[0m\u001b[1;32mNone\u001b[0m\u001b[1;33m)\u001b[0m\u001b[1;33m\u001b[0m\u001b[1;33m\u001b[0m\u001b[0m\n\u001b[0;32m   4153\u001b[0m \u001b[1;33m\u001b[0m\u001b[0m\n\u001b[1;32m-> 4154\u001b[1;33m         \u001b[0mindexer\u001b[0m \u001b[1;33m=\u001b[0m \u001b[0mkey\u001b[0m\u001b[1;33m.\u001b[0m\u001b[0mnonzero\u001b[0m\u001b[1;33m(\u001b[0m\u001b[1;33m)\u001b[0m\u001b[1;33m[\u001b[0m\u001b[1;36m0\u001b[0m\u001b[1;33m]\u001b[0m\u001b[1;33m\u001b[0m\u001b[1;33m\u001b[0m\u001b[0m\n\u001b[0m\u001b[0;32m   4155\u001b[0m         \u001b[1;32mreturn\u001b[0m \u001b[0mself\u001b[0m\u001b[1;33m.\u001b[0m\u001b[0m_take_with_is_copy\u001b[0m\u001b[1;33m(\u001b[0m\u001b[0mindexer\u001b[0m\u001b[1;33m,\u001b[0m \u001b[0maxis\u001b[0m\u001b[1;33m=\u001b[0m\u001b[1;36m0\u001b[0m\u001b[1;33m)\u001b[0m\u001b[1;33m\u001b[0m\u001b[1;33m\u001b[0m\u001b[0m\n",
      "\u001b[1;31mKeyboardInterrupt\u001b[0m: "
     ]
    }
   ],
   "source": [
    "inchiList = williams[\"InChI\"].values.tolist() + wiki[\"InChI\"].values.tolist() + pyrolysisMP[\"InChI\"].values.tolist() + bioquest[\"InChI\"].values.tolist() + solubility[\"InChI\"].values.tolist() + lowe[\"InChI\"].values.tolist()\n",
    "inchiList = list(set(inchiList)) \n",
    "print(len(inchiList)) #Number of unique inchi values\n",
    "\n",
    "master = pd.DataFrame() #Creating an empty dataframe\n",
    "for inchi in tqdm(inchiList): #Iterating over all inchi values, selecting subset with InChI and concatenating to main dataframe\n",
    "    subWilliams = williams[williams[\"InChI\"] == inchi]\n",
    "    subWiki = wiki[wiki[\"InChI\"] == inchi]\n",
    "    subPyrolysisMP = pyrolysisMP[pyrolysisMP[\"InChI\"] == inchi]\n",
    "    subBioquest = bioquest[bioquest[\"InChI\"] == inchi]\n",
    "    subSolubility = solubility[solubility[\"InChI\"] == inchi]\n",
    "    subHl = hl[hl[\"InChI\"] == inchi]\n",
    "    subLowe = lowe[lowe[\"InChI\"] == inchi]\n",
    "\n",
    "    sub = pd.concat([subWilliams, subWiki, subPyrolysisMP, subBioquest, subSolubility, subHl], axis=0)\n",
    "    master = pd.concat([master, sub], axis=0)\n",
    "\n",
    "df = isomerCountMain(master) #Getting isomer count\n",
    "master.to_csv(\"../Data/Combined/LargeFiles/0.3.0-Master.csv\", index=False) #Saving the data to a csv file"
   ]
  }
 ],
 "metadata": {
  "kernelspec": {
   "display_name": ".venv",
   "language": "python",
   "name": "python3"
  },
  "language_info": {
   "codemirror_mode": {
    "name": "ipython",
    "version": 3
   },
   "file_extension": ".py",
   "mimetype": "text/x-python",
   "name": "python",
   "nbconvert_exporter": "python",
   "pygments_lexer": "ipython3",
   "version": "3.12.2"
  }
 },
 "nbformat": 4,
 "nbformat_minor": 2
}
