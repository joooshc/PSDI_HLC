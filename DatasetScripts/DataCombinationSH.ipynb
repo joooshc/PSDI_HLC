{
 "cells": [
  {
   "cell_type": "code",
   "execution_count": 1,
   "metadata": {},
   "outputs": [],
   "source": [
    "import pandas as pd\n",
    "import numpy as np\n",
    "from tqdm import tqdm\n",
    "import warnings\n",
    "import sys\n",
    "sys.path.append('../')\n",
    "from MiscScripts.isomerCount import isomerCountMain\n",
    "warnings.filterwarnings(\"ignore\")"
   ]
  },
  {
   "cell_type": "markdown",
   "metadata": {},
   "source": [
    "## Solubility"
   ]
  },
  {
   "cell_type": "code",
   "execution_count": 2,
   "metadata": {},
   "outputs": [
    {
     "name": "stdout",
     "output_type": "stream",
     "text": [
      "Index(['Compound', 'SMILES', 'Temperature', 'InChI', 'logS'], dtype='object')\n"
     ]
    }
   ],
   "source": [
    "solubility = pd.read_csv(\"../Data/Processed/0.2.0-solubility.csv\") #Importing the data\n",
    "solubility.dropna(subset = \"InChI\", inplace = True)\n",
    "print(solubility.columns)\n",
    "solubility = solubility[[\"Compound\", \"SMILES\", \"InChI\", \"logS\", \"Temperature\"]] #Selecting columns\n",
    "\n",
    "solubility[\"logS-dataSource\"] = \"AqSolDB + IUPAC SDS + DDB 2023\"\n",
    "inchiList = solubility[\"InChI\"].tolist()"
   ]
  },
  {
   "cell_type": "code",
   "execution_count": 3,
   "metadata": {},
   "outputs": [],
   "source": [
    "lowe = pd.read_csv(\"../Data/Processed/0.0.0-LoweSol.csv\") #Importing the data\n",
    "lowe.dropna(subset = \"InChI\", inplace = True)\n",
    "lowe = lowe[[\"Compound\", \"SMILES\", \"InChI\", \"logS\", \"Temperature\"]] #Selecting columns\n",
    "\n",
    "lowe[\"logS-dataSource\"] = \"Lowe et al, 2023\"\n",
    "inchiList.extend(lowe[\"InChI\"].tolist())"
   ]
  },
  {
   "cell_type": "markdown",
   "metadata": {},
   "source": [
    "## Henry's Law"
   ]
  },
  {
   "cell_type": "code",
   "execution_count": 4,
   "metadata": {},
   "outputs": [
    {
     "name": "stdout",
     "output_type": "stream",
     "text": [
      "Index(['Compound', 'InChIKey', 'CAS', 'Constants', 'Temperature', 'SMILES',\n",
      "       'InChI'],\n",
      "      dtype='object')\n"
     ]
    }
   ],
   "source": [
    "hl = pd.read_csv(\"../Data/Processed/HenrysLaw/2.7.1-HenrysLaw.csv\") #Importing the data\n",
    "hl.dropna(subset = \"InChI\", inplace = True)\n",
    "print(hl.columns)\n",
    "hl = hl[[\"Compound\", \"SMILES\", \"Temperature\", \"InChI\", \"Constants\"]] #Selecting columns\n",
    "hl = hl.rename(columns={\"Constants\": \"HenryConstant\"}) #Renaming columns\n",
    "\n",
    "hl[\"HenryConstant-dataSource\"] = \"https://doi.org/10.5194/acp-23-10901-2023\"\n",
    "inchiList.extend(hl[\"InChI\"].tolist())"
   ]
  },
  {
   "cell_type": "markdown",
   "metadata": {},
   "source": [
    "## Combining the Data"
   ]
  },
  {
   "cell_type": "code",
   "execution_count": 5,
   "metadata": {},
   "outputs": [
    {
     "name": "stdout",
     "output_type": "stream",
     "text": [
      "18006\n"
     ]
    },
    {
     "name": "stderr",
     "output_type": "stream",
     "text": [
      "100%|██████████| 18006/18006 [01:58<00:00, 152.26it/s]\n"
     ]
    },
    {
     "name": "stdout",
     "output_type": "stream",
     "text": [
      "(47619, 8)\n"
     ]
    },
    {
     "name": "stderr",
     "output_type": "stream",
     "text": [
      "Adding isomer counts:  53%|█████▎    | 25190/47619 [00:06<00:04, 5301.90it/s][14:37:22] Cannot assign bond directions!\n",
      "[14:37:22] Cannot assign bond directions!\n",
      "Adding isomer counts: 100%|██████████| 47619/47619 [00:09<00:00, 4806.44it/s]\n"
     ]
    },
    {
     "name": "stdout",
     "output_type": "stream",
     "text": [
      "[]\n"
     ]
    }
   ],
   "source": [
    "inchiList = np.unique(inchiList)\n",
    "print(len(inchiList))\n",
    "dataSources = [solubility, lowe, hl]\n",
    "\n",
    "master = pd.DataFrame()\n",
    "\n",
    "for inchi in tqdm(inchiList):\n",
    "    subList = []\n",
    "    for ds in dataSources:\n",
    "        subList.append(ds[ds[\"InChI\"] == inchi])\n",
    "\n",
    "    subConcat = pd.concat(subList)\n",
    "\n",
    "    master = pd.concat([master, subConcat])\n",
    "\n",
    "master.drop_duplicates(inplace = True)\n",
    "print(master.shape)\n",
    "\n",
    "df = isomerCountMain(master)\n",
    "df.to_csv(\"../Data/Combined/0.5.0-Master.csv\", index = False)"
   ]
  }
 ],
 "metadata": {
  "kernelspec": {
   "display_name": ".venv",
   "language": "python",
   "name": "python3"
  },
  "language_info": {
   "codemirror_mode": {
    "name": "ipython",
    "version": 3
   },
   "file_extension": ".py",
   "mimetype": "text/x-python",
   "name": "python",
   "nbconvert_exporter": "python",
   "pygments_lexer": "ipython3",
   "version": "3.12.2"
  }
 },
 "nbformat": 4,
 "nbformat_minor": 2
}
