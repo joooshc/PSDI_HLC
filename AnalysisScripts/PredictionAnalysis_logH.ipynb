{
 "cells": [
  {
   "cell_type": "code",
   "execution_count": 2,
   "metadata": {},
   "outputs": [],
   "source": [
    "import pandas as pd\n",
    "import numpy as np\n",
    "import matplotlib.pyplot as plt\n",
    "from sklearn.metrics import mean_squared_error, r2_score"
   ]
  },
  {
   "cell_type": "code",
   "execution_count": 3,
   "metadata": {},
   "outputs": [],
   "source": [
    "savePath = f\"../Results/logHenry/Prediction/LGBM/0.2.2_MRobust-2024-08-19_17.24.15_\"\n",
    "valData = pd.read_csv(f\"../Data/Datasets/PredictionDatasets/0.2.2-logHenry-MRobust-ValidationSet.csv\")\n",
    "valPreds = pd.read_csv(f\"{savePath}ValidationPreds.csv\")"
   ]
  },
  {
   "cell_type": "code",
   "execution_count": 4,
   "metadata": {},
   "outputs": [
    {
     "data": {
      "text/html": [
       "<div>\n",
       "<style scoped>\n",
       "    .dataframe tbody tr th:only-of-type {\n",
       "        vertical-align: middle;\n",
       "    }\n",
       "\n",
       "    .dataframe tbody tr th {\n",
       "        vertical-align: top;\n",
       "    }\n",
       "\n",
       "    .dataframe thead th {\n",
       "        text-align: right;\n",
       "    }\n",
       "</style>\n",
       "<table border=\"1\" class=\"dataframe\">\n",
       "  <thead>\n",
       "    <tr style=\"text-align: right;\">\n",
       "      <th></th>\n",
       "      <th>logHenry</th>\n",
       "      <th>InChI</th>\n",
       "      <th>nIsomers</th>\n",
       "      <th>HenryConstant-dataSource</th>\n",
       "      <th>Temperature</th>\n",
       "    </tr>\n",
       "  </thead>\n",
       "  <tbody>\n",
       "    <tr>\n",
       "      <th>0</th>\n",
       "      <td>11.561716</td>\n",
       "      <td>InChI=1S/3C2H5.ClH.Pb/c3*1-2;;/h3*1H2,2H3;1H;/...</td>\n",
       "      <td>1.0</td>\n",
       "      <td>https://doi.org/10.5194/acp-23-10901-2023</td>\n",
       "      <td>0.0</td>\n",
       "    </tr>\n",
       "    <tr>\n",
       "      <th>1</th>\n",
       "      <td>14.936102</td>\n",
       "      <td>InChI=1S/3C6H11.C2H2N3.Sn/c3*1-2-4-6-5-3-1;1-3...</td>\n",
       "      <td>1.0</td>\n",
       "      <td>https://doi.org/10.5194/acp-23-10901-2023</td>\n",
       "      <td>0.0</td>\n",
       "    </tr>\n",
       "    <tr>\n",
       "      <th>2</th>\n",
       "      <td>-13.345507</td>\n",
       "      <td>InChI=1S/4C4H9.Sn/c4*1-3-4-2;/h4*1,3-4H2,2H3;</td>\n",
       "      <td>1.0</td>\n",
       "      <td>https://doi.org/10.5194/acp-23-10901-2023</td>\n",
       "      <td>0.0</td>\n",
       "    </tr>\n",
       "    <tr>\n",
       "      <th>3</th>\n",
       "      <td>-11.042922</td>\n",
       "      <td>InChI=1S/4CH3.Pb/h4*1H3;</td>\n",
       "      <td>1.0</td>\n",
       "      <td>https://doi.org/10.5194/acp-23-10901-2023</td>\n",
       "      <td>0.0</td>\n",
       "    </tr>\n",
       "    <tr>\n",
       "      <th>4</th>\n",
       "      <td>8.496990</td>\n",
       "      <td>InChI=1S/6C10H13.O.2Sn/c6*1-10(2,3)9-7-5-4-6-8...</td>\n",
       "      <td>1.0</td>\n",
       "      <td>https://doi.org/10.5194/acp-23-10901-2023</td>\n",
       "      <td>0.0</td>\n",
       "    </tr>\n",
       "    <tr>\n",
       "      <th>...</th>\n",
       "      <td>...</td>\n",
       "      <td>...</td>\n",
       "      <td>...</td>\n",
       "      <td>...</td>\n",
       "      <td>...</td>\n",
       "    </tr>\n",
       "    <tr>\n",
       "      <th>2534</th>\n",
       "      <td>-0.222781</td>\n",
       "      <td>InChI=1S/CO2/c2-1-3</td>\n",
       "      <td>1.0</td>\n",
       "      <td>https://doi.org/10.5194/acp-23-10901-2023</td>\n",
       "      <td>0.0</td>\n",
       "    </tr>\n",
       "    <tr>\n",
       "      <th>2535</th>\n",
       "      <td>-0.259324</td>\n",
       "      <td>InChI=1S/COS/c2-1-3</td>\n",
       "      <td>1.0</td>\n",
       "      <td>https://doi.org/10.5194/acp-23-10901-2023</td>\n",
       "      <td>0.0</td>\n",
       "    </tr>\n",
       "    <tr>\n",
       "      <th>2536</th>\n",
       "      <td>-5.930056</td>\n",
       "      <td>InChI=1S/CS2/c2-1-3</td>\n",
       "      <td>1.0</td>\n",
       "      <td>https://doi.org/10.5194/acp-23-10901-2023</td>\n",
       "      <td>0.0</td>\n",
       "    </tr>\n",
       "    <tr>\n",
       "      <th>2537</th>\n",
       "      <td>-0.634878</td>\n",
       "      <td>InChI=1S/H3N/h1H3</td>\n",
       "      <td>1.0</td>\n",
       "      <td>https://doi.org/10.5194/acp-23-10901-2023</td>\n",
       "      <td>0.0</td>\n",
       "    </tr>\n",
       "    <tr>\n",
       "      <th>2538</th>\n",
       "      <td>7.244228</td>\n",
       "      <td>InChI=1S/H3NO/c1-2/h2H,1H2</td>\n",
       "      <td>1.0</td>\n",
       "      <td>https://doi.org/10.5194/acp-23-10901-2023</td>\n",
       "      <td>0.0</td>\n",
       "    </tr>\n",
       "  </tbody>\n",
       "</table>\n",
       "<p>2539 rows × 5 columns</p>\n",
       "</div>"
      ],
      "text/plain": [
       "       logHenry                                              InChI  nIsomers  \\\n",
       "0     11.561716  InChI=1S/3C2H5.ClH.Pb/c3*1-2;;/h3*1H2,2H3;1H;/...       1.0   \n",
       "1     14.936102  InChI=1S/3C6H11.C2H2N3.Sn/c3*1-2-4-6-5-3-1;1-3...       1.0   \n",
       "2    -13.345507      InChI=1S/4C4H9.Sn/c4*1-3-4-2;/h4*1,3-4H2,2H3;       1.0   \n",
       "3    -11.042922                           InChI=1S/4CH3.Pb/h4*1H3;       1.0   \n",
       "4      8.496990  InChI=1S/6C10H13.O.2Sn/c6*1-10(2,3)9-7-5-4-6-8...       1.0   \n",
       "...         ...                                                ...       ...   \n",
       "2534  -0.222781                                InChI=1S/CO2/c2-1-3       1.0   \n",
       "2535  -0.259324                                InChI=1S/COS/c2-1-3       1.0   \n",
       "2536  -5.930056                                InChI=1S/CS2/c2-1-3       1.0   \n",
       "2537  -0.634878                                  InChI=1S/H3N/h1H3       1.0   \n",
       "2538   7.244228                         InChI=1S/H3NO/c1-2/h2H,1H2       1.0   \n",
       "\n",
       "                       HenryConstant-dataSource  Temperature  \n",
       "0     https://doi.org/10.5194/acp-23-10901-2023          0.0  \n",
       "1     https://doi.org/10.5194/acp-23-10901-2023          0.0  \n",
       "2     https://doi.org/10.5194/acp-23-10901-2023          0.0  \n",
       "3     https://doi.org/10.5194/acp-23-10901-2023          0.0  \n",
       "4     https://doi.org/10.5194/acp-23-10901-2023          0.0  \n",
       "...                                         ...          ...  \n",
       "2534  https://doi.org/10.5194/acp-23-10901-2023          0.0  \n",
       "2535  https://doi.org/10.5194/acp-23-10901-2023          0.0  \n",
       "2536  https://doi.org/10.5194/acp-23-10901-2023          0.0  \n",
       "2537  https://doi.org/10.5194/acp-23-10901-2023          0.0  \n",
       "2538  https://doi.org/10.5194/acp-23-10901-2023          0.0  \n",
       "\n",
       "[2539 rows x 5 columns]"
      ]
     },
     "execution_count": 4,
     "metadata": {},
     "output_type": "execute_result"
    }
   ],
   "source": [
    "valData = valData[[\"logHenry\", \"InChI\", \"nIsomers\", f\"HenryConstant-dataSource\", \"Temperature\"]]\n",
    "valData"
   ]
  },
  {
   "cell_type": "code",
   "execution_count": 5,
   "metadata": {},
   "outputs": [],
   "source": [
    "def calcMSE(yTrue, yPred):\n",
    "    mse = [mean_squared_error(yT, yP) for yT, yP in zip(yTrue, yPred)]\n",
    "    return mse\n",
    "\n",
    "def unlog(x):\n",
    "    return np.exp(x)"
   ]
  },
  {
   "cell_type": "code",
   "execution_count": 6,
   "metadata": {},
   "outputs": [],
   "source": [
    "valData.insert(1, \"logHenryPreds\", valPreds[\"yPred\"])\n",
    "\n",
    "yPred = valData[\"logHenryPreds\"].values.reshape(-1, 1)\n",
    "yTrue = valData[\"logHenry\"].values.reshape(-1, 1)\n",
    "\n",
    "mse = calcMSE(yTrue, yPred)\n",
    "\n",
    "valData.insert(2, \"MSE(log)\", mse)\n",
    "\n",
    "loggedR2 = r2_score(yTrue, yPred)\n",
    "loggedMSE = mean_squared_error(yTrue, yPred)"
   ]
  },
  {
   "cell_type": "code",
   "execution_count": 7,
   "metadata": {},
   "outputs": [],
   "source": [
    "yPredUnlogged = unlog(yPred)\n",
    "yTrueUnlogged = unlog(yTrue)\n",
    "\n",
    "valData.insert(3, \"UnloggedHenryPreds\", yPredUnlogged)\n",
    "valData.insert(4, \"UnloggedHenry\", yTrueUnlogged)\n",
    "\n",
    "mseUnlogged = calcMSE(yTrueUnlogged, yPredUnlogged)\n",
    "valData.insert(5, \"MSE(Henry)\", mseUnlogged)\n",
    "\n",
    "\n",
    "valData.to_csv(f\"{savePath}ValidationMSE.csv\", index=False)"
   ]
  },
  {
   "cell_type": "code",
   "execution_count": 8,
   "metadata": {},
   "outputs": [
    {
     "name": "stdout",
     "output_type": "stream",
     "text": [
      "Logged R2:  0.6626903518361885\n",
      "Logged MSE:  19.113500730135495\n",
      "Unlogged R2:  -68.6738593787252\n",
      "Unlogged MSE:  2.1343629017478697e+21\n",
      "Percentage of entries with MSE > 1 (Unlogged):  52.934226073257186\n",
      "Percentage of entries with MSE > 1 (Logged):  76.5261914139425\n"
     ]
    }
   ],
   "source": [
    "overallR2 = r2_score(yTrueUnlogged, yPredUnlogged)\n",
    "overallMSE = mean_squared_error(yTrueUnlogged, yPredUnlogged)\n",
    "\n",
    "print(\"Logged R2: \", loggedR2)\n",
    "print(\"Logged MSE: \", loggedMSE)\n",
    "print(\"Unlogged R2: \", overallR2)\n",
    "print(\"Unlogged MSE: \", overallMSE)\n",
    "\n",
    "numEntries = valData.shape[0]\n",
    "numErrorUnlogged = valData[valData[\"MSE(Henry)\"] > 1]\n",
    "numErrorLogged = valData[valData[\"MSE(log)\"] > 1]\n",
    "\n",
    "percentageErrorUnlogged = numErrorUnlogged.shape[0] / numEntries * 100\n",
    "percentageErrorLogged = numErrorLogged.shape[0] / numEntries * 100\n",
    "print(\"Percentage of entries with MSE > 1 (Unlogged): \", percentageErrorUnlogged)\n",
    "print(\"Percentage of entries with MSE > 1 (Logged): \", percentageErrorLogged)"
   ]
  },
  {
   "cell_type": "code",
   "execution_count": 9,
   "metadata": {},
   "outputs": [],
   "source": [
    "overallStats = pd.DataFrame([loggedR2, loggedMSE, overallR2, overallMSE, percentageErrorUnlogged, percentageErrorLogged]).T\n",
    "overallStats.columns = [\"LoggedR2\", \"LoggedMSE\", \"UnloggedR2\", \"UnloggedMSE\", \"PercentageErrorUnlogged\", \"PercentageErrorLogged\"]\n",
    "\n",
    "overallStats.to_csv(f\"{savePath}OverallStats.csv\", index=False)"
   ]
  },
  {
   "cell_type": "code",
   "execution_count": 10,
   "metadata": {},
   "outputs": [],
   "source": [
    "def getExtremes(target, df, nVals, ascend):\n",
    "    entries = df.sort_values(by=target, ascending=ascend).head(nVals)\n",
    "    inchi = entries[\"InChI\"].values.tolist()\n",
    "    scores = entries[target].values.tolist()\n",
    "\n",
    "    return inchi, scores\n",
    "\n",
    "def listExpander(myList, nVals): #Fill in list to desired length with nans\n",
    "    if type(myList) != list:\n",
    "        myList = [myList]\n",
    "    for i in range(nVals - len(myList)):\n",
    "        myList.append(np.nan)\n",
    "    return myList"
   ]
  },
  {
   "cell_type": "code",
   "execution_count": 11,
   "metadata": {},
   "outputs": [],
   "source": [
    "ascending = [True, False]\n",
    "extreme = [\"Best\", \"Worst\"]\n",
    "n = 10\n",
    "\n",
    "for i in range(len(ascending)):\n",
    "    asc = ascending[i]\n",
    "    UnloggedInChI, UnloggedMSE = getExtremes(\"MSE(Henry)\", valData, n, asc)\n",
    "    LoggedInChI, LoggedMSE = getExtremes(\"MSE(log)\", valData, n, asc)\n",
    "\n",
    "    stats = pd.DataFrame([UnloggedMSE, UnloggedInChI, LoggedMSE, LoggedInChI]).T\n",
    "    stats.columns = [\"MSE(Henry)\", \"InChI(Henry)\", \"MSE(logHenry)\", \"InChI(logHenry)\"]\n",
    "\n",
    "    overlap = list(set(UnloggedInChI) & set(LoggedInChI))\n",
    "    overlap = listExpander(overlap, n)\n",
    "    stats.insert(0, \"Overlap\", overlap)\n",
    "\n",
    "    stats.to_csv(f\"{savePath}{n}{extreme[i]}Entries.csv\", index=False)"
   ]
  },
  {
   "cell_type": "code",
   "execution_count": 24,
   "metadata": {},
   "outputs": [
    {
     "name": "stdout",
     "output_type": "stream",
     "text": [
      "1195\n",
      "2539\n",
      "0.9813570437872132\n"
     ]
    },
    {
     "data": {
      "image/png": "[encoded data removed]",
      "text/plain": [
       "<Figure size 640x480 with 1 Axes>"
      ]
     },
     "metadata": {},
     "output_type": "display_data"
    }
   ],
   "source": [
    "toHist = valData[valData[\"MSE(Henry)\"] < 1]\n",
    "print(len(toHist))\n",
    "print(len(valData))\n",
    "print(np.max(toHist[\"MSE(Henry)\"]))\n",
    "\n",
    "fig, ax = plt.subplots()\n",
    "ax.hist(toHist[\"MSE(Henry)\"], bins=20)\n",
    "ax.set_yscale(\"log\")\n",
    "plt.show()"
   ]
  },
  {
   "cell_type": "code",
   "execution_count": 18,
   "metadata": {},
   "outputs": [
    {
     "name": "stdout",
     "output_type": "stream",
     "text": [
      "596\n",
      "0.9877983193670686\n"
     ]
    },
    {
     "data": {
      "image/png": "[encoded data removed]",
      "text/plain": [
       "<Figure size 640x480 with 1 Axes>"
      ]
     },
     "metadata": {},
     "output_type": "display_data"
    }
   ],
   "source": [
    "toHist = valData[valData[\"MSE(log)\"] < 1]\n",
    "print(len(toHist))\n",
    "print(np.max(toHist[\"MSE(log)\"]))\n",
    "plt.hist(toHist[\"MSE(log)\"], bins=10)\n",
    "plt.show()"
   ]
  }
 ],
 "metadata": {
  "kernelspec": {
   "display_name": ".venv",
   "language": "python",
   "name": "python3"
  },
  "language_info": {
   "codemirror_mode": {
    "name": "ipython",
    "version": 3
   },
   "file_extension": ".py",
   "mimetype": "text/x-python",
   "name": "python",
   "nbconvert_exporter": "python",
   "pygments_lexer": "ipython3",
   "version": "3.12.2"
  }
 },
 "nbformat": 4,
 "nbformat_minor": 2
}
