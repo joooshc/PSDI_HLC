{
 "cells": [
  {
   "cell_type": "markdown",
   "metadata": {},
   "source": [
    "# Code For Extracting the CMC Data from NIST\n",
    "\n",
    "Version: 0.2.2\n",
    "\n",
    "## Importing Libraries and Functions"
   ]
  },
  {
   "cell_type": "code",
   "execution_count": 1,
   "metadata": {},
   "outputs": [],
   "source": [
    "import pandas as pd\n",
    "import numpy as np\n",
    "from tqdm import tqdm\n",
    "import sys\n",
    "import math as m\n",
    "\n",
    "sys.path.append('../')\n",
    "\n",
    "from MyFunctions.smilesToInChI import *"
   ]
  },
  {
   "cell_type": "markdown",
   "metadata": {},
   "source": [
    "## Importing Data"
   ]
  },
  {
   "cell_type": "code",
   "execution_count": 17,
   "metadata": {},
   "outputs": [],
   "source": [
    "with open(\"../Data/SourceData/CMC-sourceData_v1.csv\", encoding=\"utf-8\", errors=\"ignore\") as f:\n",
    "    df1 = pd.read_csv(f, low_memory=False)\n",
    "f.close()\n",
    "\n",
    "with open(\"../Data/SourceData/CMC-sourceData_v2.csv\", encoding=\"utf-8\", errors=\"ignore\") as f:\n",
    "    df2 = pd.read_csv(f, low_memory=False)\n",
    "f.close()"
   ]
  },
  {
   "cell_type": "code",
   "execution_count": 18,
   "metadata": {},
   "outputs": [],
   "source": [
    "names = df1[\"Name\"].tolist() #Creating list of names\n",
    "names = np.unique(names)\n",
    "\n",
    "combined = pd.DataFrame() #Creating empty dataframe to store combined data\n",
    "\n",
    "for n in names: #Iterating through names and matching SMILES strings up\n",
    "    subset1 = df1[df1[\"Name\"] == n]\n",
    "    subset2 = df2[df2[\"Name\"] == n]\n",
    "\n",
    "    subset1.insert(0, \"SMILES\", subset2[\"SMILES\"].values[0])\n",
    "\n",
    "    combined = pd.concat([combined, subset1])"
   ]
  },
  {
   "cell_type": "markdown",
   "metadata": {},
   "source": [
    "## Removing Missing Data"
   ]
  },
  {
   "cell_type": "code",
   "execution_count": 19,
   "metadata": {},
   "outputs": [],
   "source": [
    "def checkNumeric(data, col):\n",
    "    numNumeric = data[col].str.isalpha()\n",
    "    isNumeric = data[col][~numNumeric]\n",
    "    print(len(numNumeric), f\"Values found in {col} column\")\n",
    "    data = data[numNumeric == False]\n",
    "    return data"
   ]
  },
  {
   "cell_type": "code",
   "execution_count": 20,
   "metadata": {},
   "outputs": [
    {
     "name": "stdout",
     "output_type": "stream",
     "text": [
      "1695 Values found in Temperature column\n",
      "(1445, 20)\n"
     ]
    }
   ],
   "source": [
    "df = combined.copy()\n",
    "\n",
    "df = df[df[\"Additives\"].isnull()] #Removing rows with additives\n",
    "df = df[df[\"SMILES\"].notnull()] #Removing rows with no SMILES\n",
    "\n",
    "df = df.dropna(subset=[\"Temperature\", \"CMC\"]) #Removing things with no temperature or CMC value\n",
    "df = checkNumeric(df, \"Temperature\") #Removing non numeric temperature values\n",
    "\n",
    "print(df.shape)"
   ]
  },
  {
   "cell_type": "markdown",
   "metadata": {},
   "source": [
    "## Separating CMC Powers and Units"
   ]
  },
  {
   "cell_type": "code",
   "execution_count": 21,
   "metadata": {},
   "outputs": [
    {
     "name": "stdout",
     "output_type": "stream",
     "text": [
      "CMC value is: 1.50 x10 1 P 1.702x10 0 S. No units found\n",
      "CMC value is: 1.1 x10 W. No units found\n",
      "CMC value is: 1.5 x10 o W. No units found\n",
      "CMC value is: 1.82 x10 M. No units found\n",
      "CMC value is: 1.37 x10 P 1.555x10 0 S. No units found\n",
      "CMC value is: 1.30 x10 1 P 1.475x10 0 S. No units found\n",
      "CMC value is: 1.23 x10 1 P 1.396x10 0 S. No units found\n",
      "CMC value is: 1.75 x10 0 M. No units found\n",
      "CMC value is: 1.20 x10 1 P 1.362x10 S. No units found\n",
      "CMC value is: 1.58 x10 M. No units found\n",
      "CMC value is: 1.62 x10 0 M. No units found\n",
      "CMC value is: 1.20 x10 0 D 3.902x10-2 M. No units found\n",
      "CMC value is: 1.1 x10 0 P 3.57 x10-2 S. No units found\n",
      "CMC value is: 6.8 x10-2. No units found\n",
      "CMC value is: 6.5 x10-2. No units found\n",
      "CMC value is: 8.7 x10 5 M. No units found\n",
      "CMC value is: W. No units found\n",
      "CMC value is: 4.30 xio-3 M. No units found\n",
      "CMC value is: 6.0 x10-4. No units found\n",
      "CMC value is: 1.1 x10 0 P 5.87 x10-2 S. No units found\n",
      "CMC value is: 1.6 x10-5. No units found\n",
      "CMC value is: 61008. No units found\n",
      "CMC value is: 2.4 x10 0 P 1.38 x10-1 S. No units found\n",
      "CMC value is: 1 34 x10 4 M. No units found\n",
      "CMC value is: 1 in x10 4 M. No units found\n",
      "CMC value is: I To x10 4 M. No units found\n",
      "CMC value is: 2.6 x10 0 M. No units found\n",
      "CMC value is: 1.49 x10 0 W. No units found\n",
      "CMC value is: 1.21 x10 0 M. No units found\n",
      "CMC value is: 48016. No units found\n",
      "CMC value is: 1.55 x10 0 M. No units found\n",
      "CMC value is: 1.68 x10 o M. No units found\n",
      "CMC value is: 48016. No units found\n",
      "CMC value is: 48016. No units found\n",
      "CMC value is: 1.066x10 0 D 4.363x10-2 M. No units found\n",
      "CMC value is: 1.0 x10 0 P. No units found\n",
      "CMC value is: 1.1 x10 0 P. No units found\n",
      "CMC value is: 48016. No units found\n",
      "CMC value is: 1.091 x10-21. No units found\n",
      "CMC value is: 1.4 x10-2. No units found\n",
      "CMC value is: 4.90 x10 3 M. No units found\n",
      "CMC value is: 1.2 x10-4. No units found\n",
      "CMC value is: 1.57 x10 0 M. No units found\n",
      "CMC value is: 1.66 x10 0 D 6.742x10-2 M. No units found\n",
      "CMC value is: 1.59 x10 0 D 6.458x10-2 M. No units found\n",
      "CMC value is: 1.35 x10 0 D 5.483x10-2 M. No units found\n",
      "CMC value is: 1.45 x10 0 D 5.889x10-2 M. No units found\n",
      "CMC value is: 2.96 x10 o D 1.274x10-1 M. No units found\n",
      "CMC value is: 3.10 x10 o D 1.335x10-1 M. No units found\n",
      "CMC value is: 3.0 x10 0 D 1.29 x10-1 M. No units found\n",
      "CMC value is: 2.35 x10 0 M. No units found\n",
      "CMC value is: 2.21 x10-3. No units found\n",
      "52 Errors found in CMC column\n"
     ]
    }
   ],
   "source": [
    "cmcList = df[\"CMC\"].to_list()\n",
    "\n",
    "valueList = []; powerList = []; unitList = []; errors = []\n",
    "\n",
    "for cmc in cmcList: #Iterating through the CMC values\n",
    "    cmc = cmc.replace(\"X\", \"x\") \n",
    "    if \"x\" in cmc: #Seeing if there is a power of 10 in the CMC value\n",
    "        try: \n",
    "            cmcSplit = cmc.split(\"x10\") #Splitting the CMC\n",
    "            value = cmcSplit[0]\n",
    "            power = np.round(int(cmcSplit[1].split(\" \")[0]), 0)\n",
    "            unit = cmcSplit[1].split(\" \")[1]\n",
    "        except: \n",
    "            print(f\"CMC value is: {cmc}. No units found\")\n",
    "            errors.append(cmc)\n",
    "            value = np.nan; power = np.nan; unit = np.nan\n",
    "    else:\n",
    "        try: \n",
    "            value = cmc.split(\" \")[0]; power = np.nan; unit = cmc.split(\" \")[1] #Splitting the CMC\n",
    "        except:\n",
    "            print(f\"CMC value is: {cmc}. No units found\")\n",
    "            value = np.nan; power = np.nan; unit = np.nan\n",
    "            errors.append(cmc)\n",
    "    \n",
    "    valueList.append(value) \n",
    "    powerList.append(power)\n",
    "    unitList.append(unit)\n",
    "\n",
    "df[\"CMC_Value\"] = valueList; df[\"CMC_Power\"] = powerList; df[\"CMC_Unit\"] = unitList #Adding to dataframe\n",
    "df.dropna(subset=[\"CMC_Value\"], inplace=True)\n",
    "df.reset_index(drop=True, inplace=True)\n",
    "df\n",
    "\n",
    "with open(\"../Data/TempFiles/CMC_Errors.txt\", \"w\") as f:\n",
    "    for error in errors:\n",
    "        f.write(f\"{error}\\n\")\n",
    "f.close()\n",
    "\n",
    "print(len(errors), \"Errors found in CMC column\")"
   ]
  },
  {
   "cell_type": "markdown",
   "metadata": {},
   "source": [
    "## Recombining CMC Values"
   ]
  },
  {
   "cell_type": "code",
   "execution_count": 22,
   "metadata": {},
   "outputs": [
    {
     "name": "stdout",
     "output_type": "stream",
     "text": [
      "1ite-4\n",
      "1:(0)e-4\n",
      ")41e-4\n",
      "I91e-4\n",
      ":1.8e4\n"
     ]
    }
   ],
   "source": [
    "cmcPowers = df[\"CMC_Power\"].values\n",
    "cmcRawVals = df[\"CMC_Value\"].values\n",
    "cleanedPowers = []\n",
    "\n",
    "for n in cmcPowers:\n",
    "    if m.isnan(n):\n",
    "        n = 1\n",
    "    n = m.trunc(n)\n",
    "    cleanedPowers.append(n)\n",
    "\n",
    "cmcVals = []\n",
    "\n",
    "for i in range(len(cmcRawVals)):\n",
    "    val = str(cmcRawVals[i]) + \"e\" + str(cleanedPowers[i])\n",
    "    val = val.replace(\" \", \"\")\n",
    "    try:\n",
    "        cmcVals.append(float(val))\n",
    "    except:\n",
    "        print(val)\n",
    "        cmcVals.append(np.nan)\n",
    "\n",
    "df[\"CMC\"] = cmcVals"
   ]
  },
  {
   "cell_type": "code",
   "execution_count": 23,
   "metadata": {},
   "outputs": [
    {
     "name": "stdout",
     "output_type": "stream",
     "text": [
      "Evaluation\n",
      "L    1099\n",
      "3     184\n",
      "1      63\n",
      "2      22\n",
      "D      17\n",
      "P       5\n",
      "T       1\n",
      "I       1\n",
      "Name: count, dtype: int64\n"
     ]
    }
   ],
   "source": [
    "print(df[\"Evaluation\"].value_counts()) #Li must be a mistake in the extraction\n",
    "\n",
    "df = df[df[\"Evaluation\"] != \"Li\"]"
   ]
  },
  {
   "cell_type": "code",
   "execution_count": 24,
   "metadata": {},
   "outputs": [
    {
     "name": "stdout",
     "output_type": "stream",
     "text": [
      "CMC_Unit\n",
      "M    1098\n",
      "W     147\n",
      "D     117\n",
      "P      16\n",
      "N      15\n",
      "Name: count, dtype: int64\n",
      "CMC_Unit\n",
      "M    1098\n",
      "W     147\n",
      "D     117\n",
      "P      16\n",
      "N      15\n",
      "Name: count, dtype: int64\n"
     ]
    }
   ],
   "source": [
    "print(df[\"CMC_Unit\"].value_counts())  \n",
    "\n",
    "anomolousUnits = [\"0\", \"o\", \"1\", \"4\", \"3\"]\n",
    "\n",
    "for unit in anomolousUnits:\n",
    "    df = df[df[\"CMC_Unit\"] != unit]\n",
    "\n",
    "print(df[\"CMC_Unit\"].value_counts())"
   ]
  },
  {
   "cell_type": "markdown",
   "metadata": {},
   "source": [
    "## Adding InChI"
   ]
  },
  {
   "cell_type": "code",
   "execution_count": 25,
   "metadata": {},
   "outputs": [
    {
     "name": "stderr",
     "output_type": "stream",
     "text": [
      "Converting SMILES to InChI: 100%|██████████| 1393/1393 [00:00<00:00, 2973.87it/s]"
     ]
    },
    {
     "name": "stdout",
     "output_type": "stream",
     "text": [
      "0 occurred\n"
     ]
    },
    {
     "name": "stderr",
     "output_type": "stream",
     "text": [
      "\n"
     ]
    }
   ],
   "source": [
    "smiles = df[\"SMILES\"].values\n",
    "df[\"InChI\"] = smilesToInChI(smiles)"
   ]
  },
  {
   "cell_type": "markdown",
   "metadata": {},
   "source": [
    "## Unit Conversion"
   ]
  },
  {
   "cell_type": "code",
   "execution_count": 26,
   "metadata": {},
   "outputs": [],
   "source": [
    "# df = df[df[\"Mol.Wgt.\"] != 0]\n",
    "\n",
    "# unitList = df[\"CMC_Unit\"].to_list()\n",
    "\n",
    "# for i in range(len(unitList)):\n",
    "#     if unitList[i] == \"D\" or unitList[i] == \"P\":\n",
    "#         oldCMC = df.iloc[i][\"CMC\"]\n",
    "#         molWgt = df.iloc[i][\"Mol.Wgt.\"]\n",
    "#         newCMC = (10*oldCMC)/(molWgt)\n",
    "#         df.iloc[i, df.columns.get_loc(\"CMC\")] = newCMC\n",
    "\n",
    "df.sort_values(by=\"Compound No.\", inplace=True)\n",
    "df.reset_index(drop=True, inplace=True)\n",
    "df.to_csv(\"../Data/0.5.0-CMC.csv\", index=False)"
   ]
  }
 ],
 "metadata": {
  "kernelspec": {
   "display_name": ".venv",
   "language": "python",
   "name": "python3"
  },
  "language_info": {
   "codemirror_mode": {
    "name": "ipython",
    "version": 3
   },
   "file_extension": ".py",
   "mimetype": "text/x-python",
   "name": "python",
   "nbconvert_exporter": "python",
   "pygments_lexer": "ipython3",
   "version": "3.12.2"
  }
 },
 "nbformat": 4,
 "nbformat_minor": 2
}
