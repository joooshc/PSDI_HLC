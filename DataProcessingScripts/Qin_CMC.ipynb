{
 "cells": [
  {
   "cell_type": "markdown",
   "metadata": {},
   "source": [
    "# Program to Process the CMC Data from Qin et al\n",
    "\n",
    "Version: 0.0.0\n",
    "\n",
    "https://pubs.acs.org/doi/full/10.1021/acs.jpcb.1c05264\n",
    "https://github.com/zavalab/ML/tree/master/CMC_GCN\n",
    "\n",
    "Original values are in mM"
   ]
  },
  {
   "cell_type": "code",
   "execution_count": 2,
   "metadata": {},
   "outputs": [],
   "source": [
    "import pandas as pd\n",
    "from smilesToInChI import *\n",
    "import numpy as np"
   ]
  },
  {
   "cell_type": "code",
   "execution_count": 3,
   "metadata": {},
   "outputs": [
    {
     "name": "stderr",
     "output_type": "stream",
     "text": [
      "Converting SMILES to InChI: 100%|██████████| 201/201 [00:00<00:00, 2900.09it/s]\n"
     ]
    }
   ],
   "source": [
    "df = pd.read_csv(\"../Data/QinCMC-sourceData.csv\")\n",
    "df.columns = [\"SMILES\", \"CMC/mM\"]\n",
    "\n",
    "df[\"InChI\"] = smilesToInChI(df[\"SMILES\"])\n",
    "df[\"CMC\"] = 0.001*df[\"CMC/mM\"]\n",
    "df[\"Temperature\"] = 25\n",
    "\n",
    "df.to_csv(\"../Data/0.0.0-QinCMC.csv\", index=False)"
   ]
  }
 ],
 "metadata": {
  "kernelspec": {
   "display_name": ".venv",
   "language": "python",
   "name": "python3"
  },
  "language_info": {
   "codemirror_mode": {
    "name": "ipython",
    "version": 3
   },
   "file_extension": ".py",
   "mimetype": "text/x-python",
   "name": "python",
   "nbconvert_exporter": "python",
   "pygments_lexer": "ipython3",
   "version": "3.12.2"
  }
 },
 "nbformat": 4,
 "nbformat_minor": 2
}
