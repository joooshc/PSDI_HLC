{
 "cells": [
  {
   "cell_type": "markdown",
   "metadata": {},
   "source": [
    "# Program to Clean and Extract Data from Lowe et al paper\n",
    "\n",
    "https://pubs.acs.org/doi/10.1021/acs.chemrestox.2c00379\n",
    "\n",
    "Property value is in moldm-3 so need to log base 10\n",
    "\n",
    "Version: 0.0.0"
   ]
  },
  {
   "cell_type": "code",
   "execution_count": 31,
   "metadata": {},
   "outputs": [],
   "source": [
    "import pandas as pd\n",
    "import numpy as np\n",
    "import re"
   ]
  },
  {
   "cell_type": "code",
   "execution_count": 32,
   "metadata": {},
   "outputs": [
    {
     "name": "stdout",
     "output_type": "stream",
     "text": [
      "Index(['Compound', 'SOURCE_CASRN', 'SOURCE_SMILES', 'SOURCE_DTXSID',\n",
      "       'SOURCE_DTXCID', 'SOURCE_DTXRID', 'SOURCE_NAME', 'PROPERTY', 'UNIT',\n",
      "       'PROPERTY_VALUE', 'Temperature', 'MAPPED_DTXSID', 'INPUT', 'FOUND_BY',\n",
      "       'PREFERRED_NAME', 'CASRN', 'INCHIKEY', 'SMILES', 'INCHI_STRING',\n",
      "       'MOLECULAR_FORMULA', 'AVERAGE_MASS', 'MS_READY_SMILES',\n",
      "       'QSAR_READY_SMILES', 'PFASMASTER', 'PROPERTY_VALUE_CONVERTED'],\n",
      "      dtype='object')\n"
     ]
    }
   ],
   "source": [
    "df = pd.read_csv(\"../Data/SourceData/LoweSol-sourceData.csv\")\n",
    "print(df.columns)"
   ]
  },
  {
   "cell_type": "code",
   "execution_count": 33,
   "metadata": {},
   "outputs": [],
   "source": [
    "df = df[[\"Compound\", \"SMILES\", \"INCHI_STRING\", \"Temperature\", \"PROPERTY_VALUE_CONVERTED\"]]\n",
    "df = df.rename(columns={\"INCHI_STRING\":\"InChI\", \"PROPERTY_VALUE_CONVERTED\": \"Solubility\"})"
   ]
  },
  {
   "cell_type": "code",
   "execution_count": 49,
   "metadata": {},
   "outputs": [],
   "source": [
    "temps = df[\"Temperature\"].values.tolist()\n",
    "cleanTemps = []\n",
    "\n",
    "for t in temps:\n",
    "    if \"Temperature:\" in str(t):\n",
    "        t = str(t.split(\"Temperature:\")[1].strip())\n",
    "        cleanTemps.append(float(t[:4]))\n",
    "    else:\n",
    "        cleanTemps.append(25.0)\n",
    "\n",
    "df[\"Temperature\"] = cleanTemps\n",
    "\n",
    "df = df[df[\"Temperature\"] < 40] #Dropping things where string parsing must've failed (paper says only values between 20 and 30c used)\n",
    "df = df[df[\"Temperature\"] > 10]"
   ]
  },
  {
   "cell_type": "code",
   "execution_count": 51,
   "metadata": {},
   "outputs": [
    {
     "name": "stdout",
     "output_type": "stream",
     "text": [
      "count    39853.000000\n",
      "mean        -3.048113\n",
      "std          2.202369\n",
      "min        -13.171985\n",
      "25%         -4.303644\n",
      "50%         -2.758610\n",
      "75%         -1.522000\n",
      "max          2.409933\n",
      "Name: logS, dtype: float64\n"
     ]
    }
   ],
   "source": [
    "sol = df[\"Solubility\"].values.astype(float).tolist()\n",
    "logSol = np.log10(sol)\n",
    "df[\"logS\"] = logSol\n",
    "\n",
    "print(df[\"logS\"].describe()) #Checking for any weird values"
   ]
  },
  {
   "cell_type": "code",
   "execution_count": 53,
   "metadata": {},
   "outputs": [],
   "source": [
    "df.dropna(subset=\"InChI\", inplace=True)\n",
    "df.to_csv(\"../Data/Processed/0.0.0-LoweSol.csv\", index=False)"
   ]
  }
 ],
 "metadata": {
  "kernelspec": {
   "display_name": ".venv",
   "language": "python",
   "name": "python3"
  },
  "language_info": {
   "codemirror_mode": {
    "name": "ipython",
    "version": 3
   },
   "file_extension": ".py",
   "mimetype": "text/x-python",
   "name": "python",
   "nbconvert_exporter": "python",
   "pygments_lexer": "ipython3",
   "version": "3.12.2"
  }
 },
 "nbformat": 4,
 "nbformat_minor": 2
}
