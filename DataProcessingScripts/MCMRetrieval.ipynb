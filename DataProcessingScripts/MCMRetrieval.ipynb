{
 "cells": [
  {
   "cell_type": "code",
   "execution_count": 30,
   "metadata": {},
   "outputs": [],
   "source": [
    "import pandas as pd\n",
    "import requests\n",
    "import numpy as np\n",
    "import time as t"
   ]
  },
  {
   "cell_type": "code",
   "execution_count": 31,
   "metadata": {},
   "outputs": [
    {
     "name": "stdout",
     "output_type": "stream",
     "text": [
      "674\n"
     ]
    }
   ],
   "source": [
    "vers = \"2.7.1\"\n",
    "df = pd.read_csv(f\"../Data/Processed/{vers}-HenrysLaw.csv\")\n",
    "df = df[df[\"InChI\"].notnull()]\n",
    "compoundList = df[\"Compound\"].unique()\n",
    "\n",
    "cleanList = []\n",
    "\n",
    "for compound in compoundList:\n",
    "    if \"MCM:\" in compound:\n",
    "        cleanList.append(compound.split(\"MCM:\")[1])\n",
    "    else:\n",
    "        pass\n",
    "\n",
    "print(len(cleanList))"
   ]
  },
  {
   "cell_type": "code",
   "execution_count": 38,
   "metadata": {},
   "outputs": [
    {
     "name": "stdout",
     "output_type": "stream",
     "text": [
      "    <li class=\"list-group-item\"><strong>InChI: InChI=1S/C2H6O/c1-2-3/h3H,2H2,1H3</strong></li>\n",
      "InChI=1S/C2H6O/c1-2-3/h3H,2H2,1H3</strong></li>\n",
      "InChI=1S/C2H6O/c1-2-3/h3H,2H2,1H3\n"
     ]
    },
    {
     "data": {
      "text/plain": [
       "'InChI=1S/C2H6O/c1-2-3/h3H,2H2,1H3'"
      ]
     },
     "execution_count": 38,
     "metadata": {},
     "output_type": "execute_result"
    }
   ],
   "source": [
    "def MCMRetrieval(compound):\n",
    "    \"\"\" \n",
    "    This function retrieves the Henry's Law constants from the Master Chemical Mechanism database.\n",
    "\n",
    "    Parameters:\n",
    "    compound: string\n",
    "\n",
    "    Returns:\n",
    "    cons: list\n",
    "    \"\"\"\n",
    "    try:\n",
    "        page = requests.get(f\"https://mcm.york.ac.uk/MCM/species/{compound}\")\n",
    "    except:\n",
    "        print(\"Request error.\")\n",
    "        return np.nan\n",
    "\n",
    "    lines = page.text.splitlines() #Only reached if the page is successfully retrieved\n",
    "    for line in lines:\n",
    "        if \"InChI\" in line:\n",
    "            print(line)\n",
    "            inchi = line.split(\"InChI: \")[1]\n",
    "            print(inchi)\n",
    "            inchi = inchi.split(\"<\")[0]\n",
    "            print(inchi)\n",
    "            return inchi\n",
    "\n",
    "MCMRetrieval(\"C2H5OH\")"
   ]
  }
 ],
 "metadata": {
  "kernelspec": {
   "display_name": ".venv",
   "language": "python",
   "name": "python3"
  },
  "language_info": {
   "codemirror_mode": {
    "name": "ipython",
    "version": 3
   },
   "file_extension": ".py",
   "mimetype": "text/x-python",
   "name": "python",
   "nbconvert_exporter": "python",
   "pygments_lexer": "ipython3",
   "version": "3.12.2"
  }
 },
 "nbformat": 4,
 "nbformat_minor": 2
}
