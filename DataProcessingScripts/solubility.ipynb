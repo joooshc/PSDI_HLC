{
 "cells": [
  {
   "cell_type": "markdown",
   "metadata": {},
   "source": [
    "# Solubility\n",
    "\n",
    "Version: 0.1.0\n",
    "\n",
    "Notes: All values are in celcius.\n",
    "\n",
    "## Importing libraries"
   ]
  },
  {
   "cell_type": "code",
   "execution_count": 22,
   "metadata": {},
   "outputs": [],
   "source": [
    "import pandas as pd\n",
    "from rdkit import Chem\n",
    "from rdkit import RDLogger\n",
    "import numpy as np\n",
    "RDLogger.DisableLog('rdApp.*')\n",
    "\n",
    "from MyFunctions.smilesToInChI import *"
   ]
  },
  {
   "cell_type": "markdown",
   "metadata": {},
   "source": [
    "## Reading in Data\n",
    "\n",
    "All previously collected features are cut off, hence why taking only 0:6 columns."
   ]
  },
  {
   "cell_type": "code",
   "execution_count": 23,
   "metadata": {},
   "outputs": [
    {
     "name": "stdout",
     "output_type": "stream",
     "text": [
      "(18567, 236)\n",
      "(10423, 236)\n",
      "            Compound1                            SMILES1  MoleFraction  \\\n",
      "0   hexachlorobenzene  C1(=C(C(=C(C(=C1Cl)Cl)Cl)Cl)Cl)Cl  3.170000e-10   \n",
      "1  pentachlorobenzene      C1=C(C(=C(C(=C1Cl)Cl)Cl)Cl)Cl  3.950000e-08   \n",
      "2   pentachlorophenol   C1(=C(C(=C(C(=C1Cl)Cl)Cl)Cl)Cl)O  3.400000e-07   \n",
      "3   pentachlorophenol   C1(=C(C(=C(C(=C1Cl)Cl)Cl)Cl)Cl)O  1.220000e-06   \n",
      "4   pentachlorophenol   C1(=C(C(=C(C(=C1Cl)Cl)Cl)Cl)Cl)O  2.370000e-06   \n",
      "\n",
      "   Temperature  \n",
      "0         25.0  \n",
      "1         25.0  \n",
      "2          0.0  \n",
      "3         27.0  \n",
      "4         50.0  \n"
     ]
    }
   ],
   "source": [
    "data = pd.read_csv(\"../Data/SourceData/solubility-sourceData.csv\")\n",
    "print(data.shape)\n",
    "data = data[data[\"MoleFraction\"] <= 1.0] #Removing mole fraction values that are definitely wrong\n",
    "data = data[data[\"MoleFraction\"] >= 0.0]\n",
    "\n",
    "data = data[data[\"SMILES2\"] == \"O\"] #Taking aqueous data only\n",
    "print(data.shape)\n",
    "cleanedData = data.iloc[:, 0:6]\n",
    "del cleanedData[\"SMILES2\"]; del cleanedData[\"Compound2\"]\n",
    "print(cleanedData.head())"
   ]
  },
  {
   "cell_type": "markdown",
   "metadata": {},
   "source": [
    "## Converting SMILES to InChI"
   ]
  },
  {
   "cell_type": "code",
   "execution_count": 24,
   "metadata": {},
   "outputs": [
    {
     "name": "stderr",
     "output_type": "stream",
     "text": [
      "Converting SMILES to InChI: 100%|██████████| 10423/10423 [00:00<00:00, 23590.00it/s]"
     ]
    },
    {
     "name": "stdout",
     "output_type": "stream",
     "text": [
      "8193 occurred\n"
     ]
    },
    {
     "name": "stderr",
     "output_type": "stream",
     "text": [
      "\n"
     ]
    }
   ],
   "source": [
    "cleanedData[\"InChI\"] = smilesToInChI(cleanedData[\"SMILES1\"])"
   ]
  },
  {
   "cell_type": "markdown",
   "metadata": {},
   "source": [
    "### Converting Mole Fraction to LogS\n",
    "\n",
    "Solubility = $\\frac{A}{volume}$  \n",
    "Mole Fraction = $\\frac{A}{A + water}$  \n",
    "Moles water = $1-A$  \n",
    "Mass water = $0.018(1-A)$ dm $^3$  \n",
    "Solubility = $\\frac{A}{0.018(1-A)}$\n",
    "\n",
    "Checked against original AqSolDB dataset and seems to match up."
   ]
  },
  {
   "cell_type": "code",
   "execution_count": 25,
   "metadata": {},
   "outputs": [
    {
     "name": "stdout",
     "output_type": "stream",
     "text": [
      "['Compound', 'SMILES', 'Temperature', 'InChI', 'logS']\n"
     ]
    },
    {
     "name": "stderr",
     "output_type": "stream",
     "text": [
      "C:\\Users\\josh_\\AppData\\Local\\Temp\\ipykernel_1232\\2913016481.py:4: RuntimeWarning: divide by zero encountered in divide\n",
      "  solubility = molFracs/(0.01801528*(1-molFracs))\n",
      "C:\\Users\\josh_\\AppData\\Local\\Temp\\ipykernel_1232\\2913016481.py:5: RuntimeWarning: divide by zero encountered in log10\n",
      "  return np.log10(solubility)\n"
     ]
    }
   ],
   "source": [
    "molFracs = cleanedData[\"MoleFraction\"].values\n",
    "\n",
    "def calcLogS(molFracs):\n",
    "    solubility = molFracs/(0.01801528*(1-molFracs))\n",
    "    return np.log10(solubility)\n",
    "\n",
    "logS = calcLogS(molFracs)\n",
    "cleanedData[\"logS\"] = logS\n",
    "\n",
    "del cleanedData[\"MoleFraction\"]\n",
    "cleanedData = cleanedData.rename(columns={\"SMILES1\": \"SMILES\", \"Compound1\": \"Compound\"})\n",
    "\n",
    "print(cleanedData.columns.to_list())\n",
    "\n",
    "cleanedData.to_csv(\"../Data/Processed/0.2.0-solubility.csv\", index=False)"
   ]
  }
 ],
 "metadata": {
  "kernelspec": {
   "display_name": ".venv",
   "language": "python",
   "name": "python3"
  },
  "language_info": {
   "codemirror_mode": {
    "name": "ipython",
    "version": 3
   },
   "file_extension": ".py",
   "mimetype": "text/x-python",
   "name": "python",
   "nbconvert_exporter": "python",
   "pygments_lexer": "ipython3",
   "version": "3.12.2"
  }
 },
 "nbformat": 4,
 "nbformat_minor": 2
}
