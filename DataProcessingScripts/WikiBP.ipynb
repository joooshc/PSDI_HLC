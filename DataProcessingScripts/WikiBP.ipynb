{
 "cells": [
  {
   "cell_type": "markdown",
   "metadata": {},
   "source": [
    "# Cleaning and Preparing Data from WikiBP\n",
    "\n",
    "Version: 0.0.0  \n",
    "All values are in celcius.\n",
    "\n",
    "## Importing Libraries"
   ]
  },
  {
   "cell_type": "code",
   "execution_count": 1,
   "metadata": {},
   "outputs": [],
   "source": [
    "import pandas as pd \n",
    "import numpy as np\n",
    "from rdkit import Chem\n",
    "from rdkit import RDLogger\n",
    "RDLogger.DisableLog('rdApp.*')\n",
    "\n",
    "from MyFunctions.smilesToInChI import *"
   ]
  },
  {
   "cell_type": "markdown",
   "metadata": {},
   "source": [
    "## Reading in data and creating a copy"
   ]
  },
  {
   "cell_type": "code",
   "execution_count": null,
   "metadata": {},
   "outputs": [],
   "source": [
    "data = pd.read_csv(\"../Data/SourceData/WikiBP/chem_mp_bp_dataset.csv\")\n",
    "print(data.head())\n",
    "cleanedData = data.copy()"
   ]
  },
  {
   "cell_type": "markdown",
   "metadata": {},
   "source": [
    "## Adding InChI"
   ]
  },
  {
   "cell_type": "code",
   "execution_count": null,
   "metadata": {},
   "outputs": [],
   "source": [
    "try: # remove the first column if it is just the index\n",
    "    del cleanedData['Unnamed: 0']\n",
    "except:\n",
    "    pass\n",
    "\n",
    "cleanedData[\"InChI\"] = smilesToInChI(cleanedData['canonical_smiles']) # convert smiles to InChI\n",
    "print(cleanedData.head())\n",
    "cleanedData.to_csv(\"../Data/0.0.0-WikiBP.csv\") # save the cleaned data"
   ]
  },
  {
   "cell_type": "code",
   "execution_count": 2,
   "metadata": {},
   "outputs": [
    {
     "name": "stdout",
     "output_type": "stream",
     "text": [
      "(1565, 9)\n",
      "(1565, 9)\n"
     ]
    }
   ],
   "source": [
    "df = pd.read_csv(\"../Data/0.0.0-WikiBP.csv\")\n",
    "print(df.shape)\n",
    "df.dropna(subset=['InChI'], inplace=True) # remove rows with missing InChI\n",
    "print(df.shape)"
   ]
  }
 ],
 "metadata": {
  "kernelspec": {
   "display_name": ".venv",
   "language": "python",
   "name": "python3"
  },
  "language_info": {
   "codemirror_mode": {
    "name": "ipython",
    "version": 3
   },
   "file_extension": ".py",
   "mimetype": "text/x-python",
   "name": "python",
   "nbconvert_exporter": "python",
   "pygments_lexer": "ipython3",
   "version": "3.12.2"
  }
 },
 "nbformat": 4,
 "nbformat_minor": 2
}
