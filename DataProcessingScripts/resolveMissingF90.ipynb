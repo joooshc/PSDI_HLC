{
 "cells": [
  {
   "cell_type": "code",
   "execution_count": 1,
   "metadata": {},
   "outputs": [],
   "source": [
    "import pandas as pd\n",
    "import requests\n",
    "import numpy as np\n",
    "import pubchempy as pcp\n",
    "from tqdm import tqdm, trange\n",
    "import time as t\n",
    "from MyFunctions.IdentifierConversion import convertors"
   ]
  },
  {
   "cell_type": "code",
   "execution_count": 2,
   "metadata": {},
   "outputs": [],
   "source": [
    "def IDToSmiles(idValue, idType):\n",
    "    \"\"\" \n",
    "    This function converts compound names to canonical SMILES strings using PubChemPy.\n",
    "\n",
    "    Parameters:\n",
    "    idValue: string\n",
    "    idType: string\n",
    "\n",
    "    Returns:\n",
    "    smile:\n",
    "    \"\"\"\n",
    "\n",
    "\n",
    "    compound = pcp.get_compounds(idValue, idType)\n",
    "    try:\n",
    "        smile = compound[0].canonical_smiles\n",
    "    except:\n",
    "        smile = np.nan\n",
    "        # print(idValue, 'smile not found with ID:', idType)\n",
    "\n",
    "    return smile\n",
    "\n",
    "def tryConvFloat(val):\n",
    "    try:\n",
    "        return float(val)\n",
    "    except:\n",
    "        return val\n",
    "    \n",
    "def MCMRetrieval(compound):\n",
    "    \"\"\" \n",
    "    This function retrieves the Henry's Law constants from the Master Chemical Mechanism database.\n",
    "\n",
    "    Parameters:\n",
    "    compound: string\n",
    "\n",
    "    Returns:\n",
    "    cons: list\n",
    "    \"\"\"\n",
    "    try:\n",
    "        page = requests.get(f\"https://mcm.york.ac.uk/MCM/species/{compound}\")\n",
    "    except:\n",
    "        print(\"Request error.\")\n",
    "        return np.nan\n",
    "\n",
    "    lines = page.text.splitlines() #Only reached if the page is successfully retrieved\n",
    "    for line in lines:\n",
    "        if \"InChI\" in line:\n",
    "            inchi = line.split(\"InChI: \")[1]\n",
    "            inchi = inchi.split(\"<\")[0]\n",
    "            return inchi\n",
    "    print(\"InChI not found.\")\n",
    "    return np.nan"
   ]
  },
  {
   "cell_type": "code",
   "execution_count": 3,
   "metadata": {},
   "outputs": [
    {
     "name": "stdout",
     "output_type": "stream",
     "text": [
      "(2621, 7)\n",
      "(2358, 8) (263, 8)\n"
     ]
    }
   ],
   "source": [
    "vers = \"2.7.1\"\n",
    "dataset = pd.read_csv(f\"../Data/Processed/HenrysLaw/{vers}-HenrysLaw.csv\")\n",
    "dataset[\"InChI\"].value_counts()\n",
    "\n",
    "noInchi = dataset[dataset[\"InChI\"].isnull()]\n",
    "hasInchi = dataset[dataset[\"InChI\"].notnull()]\n",
    "\n",
    "uniqueDataset = noInchi.copy()\n",
    "uniqueDataset.drop_duplicates(subset=[\"Compound\"], inplace=True)\n",
    "print(uniqueDataset.shape)\n",
    "\n",
    "names = uniqueDataset[\"Compound\"].values\n",
    "noMCMNames = []\n",
    "MCMNames = []\n",
    "\n",
    "for name in names:\n",
    "    if \"MCM:\" in name:\n",
    "        noMCMNames.append(np.nan)\n",
    "        MCMNames.append(name.split(\"MCM:\")[1])\n",
    "    else:\n",
    "        noMCMNames.append(name)\n",
    "        MCMNames.append(np.nan)\n",
    "\n",
    "mcmDataset = uniqueDataset.copy()\n",
    "mcmDataset[\"Compounds\"] = MCMNames\n",
    "mcmDataset.dropna(subset=[\"Compounds\"], inplace=True)\n",
    "\n",
    "noMCMDataset = uniqueDataset.copy()\n",
    "noMCMDataset[\"Compounds\"] = noMCMNames\n",
    "noMCMDataset.dropna(subset=[\"Compounds\"], inplace=True)\n",
    "print(mcmDataset.shape, noMCMDataset.shape)"
   ]
  },
  {
   "cell_type": "code",
   "execution_count": 4,
   "metadata": {},
   "outputs": [
    {
     "name": "stdout",
     "output_type": "stream",
     "text": [
      "Loaded SMILES from checkpoint.\n"
     ]
    }
   ],
   "source": [
    "try:\n",
    "    smilesdf = pd.read_csv(f\"../Data/Processed/HenrysLaw/CheckPoints/{vers}-missing_SMILES_nonMCM.csv\")\n",
    "    print(\"Loaded SMILES from checkpoint.\")\n",
    "except:\n",
    "    compounds = list(noMCMDataset[\"Compound\"].values)\n",
    "    inchikeys = list(noMCMDataset[\"InChIKey\"].values)\n",
    "\n",
    "    smilesDict = {}\n",
    "\n",
    "    for i in tqdm(range(len(compounds)), desc=\"Converting identifiers to SMILES\"):\n",
    "        smile = IDToSmiles(inchikeys[i], \"inchikey\")\n",
    "        smile = tryConvFloat(smile)\n",
    "\n",
    "        if type(smile) == float:\n",
    "            smile = IDToSmiles(compounds[i], \"name\") #If InChIKey conversion fails, try converting the compound name\n",
    "            smile = tryConvFloat(smile)\n",
    "\n",
    "            if type(smile) == float:\n",
    "                smilesDict[compounds[i]] = np.nan\n",
    "                print(\"No SMILES available for\", compounds[i])\n",
    "        \n",
    "        smilesDict[compounds[i]] = smile\n",
    "\n",
    "    smilesdf = pd.DataFrame(smilesDict, index=[0]).T.reset_index()\n",
    "    smilesdf.columns = [\"Compound\", \"SMILES\"]\n",
    "    smilesdf.to_csv(f\"../Data/Processed/HenrysLaw/CheckPoints/{vers}-missing_SMILES_nonMCM.csv\", index=False)"
   ]
  },
  {
   "cell_type": "code",
   "execution_count": 6,
   "metadata": {},
   "outputs": [
    {
     "name": "stderr",
     "output_type": "stream",
     "text": [
      "Retrieving InChI for C514OOH, sleeping for 1.35 seconds:  12%|█▏        | 287/2358 [09:22<53:47,  1.56s/it]     "
     ]
    },
    {
     "name": "stdout",
     "output_type": "stream",
     "text": [
      "InChI not found.\n"
     ]
    },
    {
     "name": "stderr",
     "output_type": "stream",
     "text": [
      "Retrieving InChI for C522CO3H, sleeping for 0.96 seconds:  12%|█▏        | 293/2358 [09:30<43:20,  1.26s/it]  "
     ]
    },
    {
     "name": "stdout",
     "output_type": "stream",
     "text": [
      "InChI not found.\n"
     ]
    },
    {
     "name": "stderr",
     "output_type": "stream",
     "text": [
      "Retrieving InChI for C1H4C5CO3H, sleeping for 1.60 seconds:  14%|█▍        | 330/2358 [10:38<50:40,  1.50s/it]  "
     ]
    },
    {
     "name": "stdout",
     "output_type": "stream",
     "text": [
      "InChI not found.\n"
     ]
    },
    {
     "name": "stderr",
     "output_type": "stream",
     "text": [
      "Retrieving InChI for NO3CH2CHO, sleeping for 1.17 seconds:  74%|███████▎  | 1734/2358 [56:58<12:51,  1.24s/it]  "
     ]
    },
    {
     "name": "stdout",
     "output_type": "stream",
     "text": [
      "InChI not found.\n"
     ]
    },
    {
     "name": "stderr",
     "output_type": "stream",
     "text": [
      "Retrieving InChI for CH3SOO2NO2, sleeping for 0.98 seconds: 100%|██████████| 2358/2358 [1:17:27<00:00,  1.97s/it]\n"
     ]
    }
   ],
   "source": [
    "inchiDict = {}\n",
    "compounds = list(mcmDataset[\"Compounds\"].values)\n",
    "\n",
    "myTrange = trange(len(compounds), desc=\"Retrieving InChIs\")\n",
    "for i in myTrange:\n",
    "    comp = compounds[i]\n",
    "    napTime = np.random.uniform(0.5, 3)\n",
    "    myTrange.set_description(f\"Retrieving InChI for {comp}, sleeping for {napTime:.2f} seconds\")\n",
    "    t.sleep(napTime)\n",
    "\n",
    "    inchi = MCMRetrieval(comp)\n",
    "    inchiDict[comp] = inchi\n",
    "\n",
    "inchidf = pd.DataFrame(inchiDict, index=[0]).T.reset_index()\n",
    "inchidf.columns = [\"Compounds\", \"InChI\"]\n",
    "inchidf\n",
    "inchidf.to_csv(f\"../Data/Processed/HenrysLaw/CheckPoints/{vers}-missing_InChI_MCM.csv\", index=False)"
   ]
  },
  {
   "cell_type": "code",
   "execution_count": 7,
   "metadata": {},
   "outputs": [
    {
     "name": "stderr",
     "output_type": "stream",
     "text": [
      "Converting SMILES to InChI: 100%|██████████| 263/263 [00:00<00:00, 4281.98it/s]"
     ]
    },
    {
     "name": "stdout",
     "output_type": "stream",
     "text": [
      "73 errors occurred\n"
     ]
    },
    {
     "name": "stderr",
     "output_type": "stream",
     "text": [
      "\n"
     ]
    }
   ],
   "source": [
    "smiles = smilesdf[\"SMILES\"].values\n",
    "inchis = inchidf[\"InChI\"].values\n",
    "\n",
    "noMCMDataset[\"SMILES\"] = smiles\n",
    "noMCMInChI = convertors.smilesToInChI(smiles)\n",
    "noMCMDataset[\"InChI\"] = noMCMInChI\n",
    "\n",
    "mcmDataset[\"InChI\"] = inchis\n",
    "\n",
    "# Need to re-expand lists"
   ]
  },
  {
   "cell_type": "code",
   "execution_count": 9,
   "metadata": {},
   "outputs": [
    {
     "name": "stdout",
     "output_type": "stream",
     "text": [
      "263 2358\n",
      "2621\n"
     ]
    }
   ],
   "source": [
    "def createInchiDict(df):\n",
    "    inchiDict = {}\n",
    "    compounds = list(df[\"Compound\"].values)\n",
    "    inchis = list(df[\"InChI\"].values)\n",
    "\n",
    "    for i in range(len(compounds)):\n",
    "        inchiDict[compounds[i]] = inchis[i]\n",
    "\n",
    "    return inchiDict\n",
    "\n",
    "print(len(noMCMDataset), len(mcmDataset))\n",
    "inchiDict = createInchiDict(noMCMDataset)\n",
    "inchiDict.update(createInchiDict(mcmDataset))\n",
    "print(len(inchiDict))"
   ]
  },
  {
   "cell_type": "code",
   "execution_count": 12,
   "metadata": {},
   "outputs": [],
   "source": [
    "inchiList = []\n",
    "compoundList = noInchi[\"Compound\"].values\n",
    "\n",
    "for compound in compoundList:\n",
    "    try:\n",
    "        inchiList.append(inchiDict[compound])\n",
    "    except:\n",
    "        inchiList.append(np.nan)\n",
    "        print(\"InChI not found for\", compound)\n",
    "\n",
    "noInchi[\"InChI\"] = inchiList\n",
    "dataset = pd.concat([hasInchi, noInchi])\n",
    "dataset.to_csv(f\"../Data/Processed/HenrysLaw/{vers}-HenrysLaw.csv\", index=False)"
   ]
  }
 ],
 "metadata": {
  "kernelspec": {
   "display_name": ".venv",
   "language": "python",
   "name": "python3"
  },
  "language_info": {
   "codemirror_mode": {
    "name": "ipython",
    "version": 3
   },
   "file_extension": ".py",
   "mimetype": "text/x-python",
   "name": "python",
   "nbconvert_exporter": "python",
   "pygments_lexer": "ipython3",
   "version": "3.12.2"
  }
 },
 "nbformat": 4,
 "nbformat_minor": 2
}
